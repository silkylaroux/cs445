{
 "cells": [
  {
   "cell_type": "markdown",
   "metadata": {},
   "source": [
    "$\\newcommand{\\xv}{\\mathbf{x}}\n",
    "\\newcommand{\\Xv}{\\mathbf{X}}\n",
    "\\newcommand{\\yv}{\\mathbf{y}}\n",
    "\\newcommand{\\zv}{\\mathbf{z}}\n",
    "\\newcommand{\\av}{\\mathbf{a}}\n",
    "\\newcommand{\\Wv}{\\mathbf{W}}\n",
    "\\newcommand{\\wv}{\\mathbf{w}}\n",
    "\\newcommand{\\tv}{\\mathbf{t}}\n",
    "\\newcommand{\\Tv}{\\mathbf{T}}\n",
    "\\newcommand{\\muv}{\\boldsymbol{\\mu}}\n",
    "\\newcommand{\\sigmav}{\\boldsymbol{\\sigma}}\n",
    "\\newcommand{\\phiv}{\\boldsymbol{\\phi}}\n",
    "\\newcommand{\\Phiv}{\\boldsymbol{\\Phi}}\n",
    "\\newcommand{\\Sigmav}{\\boldsymbol{\\Sigma}}\n",
    "\\newcommand{\\Lambdav}{\\boldsymbol{\\Lambda}}\n",
    "\\newcommand{\\half}{\\frac{1}{2}}\n",
    "\\newcommand{\\argmax}[1]{\\underset{#1}{\\operatorname{argmax}}}\n",
    "\\newcommand{\\argmin}[1]{\\underset{#1}{\\operatorname{argmin}}}$"
   ]
  },
  {
   "cell_type": "markdown",
   "metadata": {},
   "source": [
    "# Assignment 3: Activation Functions"
   ]
  },
  {
   "cell_type": "markdown",
   "metadata": {},
   "source": [
    "Damian Armijo"
   ]
  },
  {
   "cell_type": "markdown",
   "metadata": {},
   "source": [
    "## Overview"
   ]
  },
  {
   "cell_type": "markdown",
   "metadata": {},
   "source": [
    "This notebook acts mainly to show the differences between a ReLU activation function compared to the tanh activation function. It also helps to show that the ReLU function can actually work very similarly to the tanh function. "
   ]
  },
  {
   "cell_type": "code",
   "execution_count": 15,
   "metadata": {
    "collapsed": true
   },
   "outputs": [],
   "source": [
    "import numpy as np\n",
    "import matplotlib.pyplot as plt\n",
    "%matplotlib inline\n"
   ]
  },
  {
   "cell_type": "code",
   "execution_count": 24,
   "metadata": {
    "collapsed": true
   },
   "outputs": [],
   "source": [
    "import random\n",
    "# helper method that will partition data into testing and training data\n",
    "\n",
    "def partition(X, T, seeding,shuffle = False):\n",
    "    nRows = X.shape[0]\n",
    "    rows = np.arange(nRows)\n",
    "    if(shuffle):\n",
    "        np.random.shuffle(rows)\n",
    "\n",
    "    nTrain = int(nRows * seeding)\n",
    "    trainRows = rows[:nTrain]\n",
    "    testRows = rows[nTrain:]\n",
    "    Xtrain, Ttrain = X[trainRows, :], T[trainRows, :]\n",
    "    Xtest, Ttest = X[testRows, :], T[testRows, :]\n",
    "    return Xtrain, Ttrain, Xtest, Ttest"
   ]
  },
  {
   "cell_type": "markdown",
   "metadata": {},
   "source": [
    "## Testing Partition "
   ]
  },
  {
   "cell_type": "markdown",
   "metadata": {},
   "source": [
    "The following section takes some simple data, and shows how the partition function defined above works at splitting \n",
    "into training and testing. It also shows how you can randomize the training and testing data."
   ]
  },
  {
   "cell_type": "code",
   "execution_count": 16,
   "metadata": {
    "collapsed": true
   },
   "outputs": [],
   "source": [
    "X = np.arange(10*2).reshape((10, 2))\n",
    "T = X[:, 0:1] * 0.1"
   ]
  },
  {
   "cell_type": "code",
   "execution_count": 17,
   "metadata": {},
   "outputs": [
    {
     "data": {
      "text/plain": [
       "array([[ 0,  1],\n",
       "       [ 2,  3],\n",
       "       [ 4,  5],\n",
       "       [ 6,  7],\n",
       "       [ 8,  9],\n",
       "       [10, 11],\n",
       "       [12, 13],\n",
       "       [14, 15],\n",
       "       [16, 17],\n",
       "       [18, 19]])"
      ]
     },
     "execution_count": 17,
     "metadata": {},
     "output_type": "execute_result"
    }
   ],
   "source": [
    "X"
   ]
  },
  {
   "cell_type": "code",
   "execution_count": null,
   "metadata": {},
   "outputs": [],
   "source": [
    "T"
   ]
  },
  {
   "cell_type": "code",
   "execution_count": 19,
   "metadata": {
    "collapsed": true
   },
   "outputs": [],
   "source": [
    "Xtrain, Ttrain, Xtest, Ttest = partition(X, T, 0.8, shuffle=False)"
   ]
  },
  {
   "cell_type": "code",
   "execution_count": 20,
   "metadata": {},
   "outputs": [
    {
     "data": {
      "text/plain": [
       "array([[ 0,  1],\n",
       "       [ 2,  3],\n",
       "       [ 4,  5],\n",
       "       [ 6,  7],\n",
       "       [ 8,  9],\n",
       "       [10, 11],\n",
       "       [12, 13],\n",
       "       [14, 15]])"
      ]
     },
     "execution_count": 20,
     "metadata": {},
     "output_type": "execute_result"
    }
   ],
   "source": [
    "Xtrain"
   ]
  },
  {
   "cell_type": "code",
   "execution_count": null,
   "metadata": {
    "collapsed": true
   },
   "outputs": [],
   "source": [
    "Ttrain"
   ]
  },
  {
   "cell_type": "code",
   "execution_count": null,
   "metadata": {
    "collapsed": true
   },
   "outputs": [],
   "source": [
    "Xtest"
   ]
  },
  {
   "cell_type": "code",
   "execution_count": null,
   "metadata": {
    "collapsed": true
   },
   "outputs": [],
   "source": [
    "Ttest"
   ]
  },
  {
   "cell_type": "markdown",
   "metadata": {},
   "source": [
    "If ```shuffle=True``` is used as an argument, then the samples are randomly rearranged before the partitions are formed."
   ]
  },
  {
   "cell_type": "code",
   "execution_count": 22,
   "metadata": {
    "collapsed": true
   },
   "outputs": [],
   "source": [
    "Xtrain, Ttrain, Xtest, Ttest = partition(X, T, 0.8, shuffle=True)"
   ]
  },
  {
   "cell_type": "code",
   "execution_count": 23,
   "metadata": {},
   "outputs": [
    {
     "data": {
      "text/plain": [
       "array([[ 6,  7],\n",
       "       [ 2,  3],\n",
       "       [18, 19],\n",
       "       [10, 11],\n",
       "       [12, 13],\n",
       "       [14, 15],\n",
       "       [ 8,  9],\n",
       "       [16, 17]])"
      ]
     },
     "execution_count": 23,
     "metadata": {},
     "output_type": "execute_result"
    }
   ],
   "source": [
    "Xtrain"
   ]
  },
  {
   "cell_type": "code",
   "execution_count": null,
   "metadata": {
    "collapsed": true
   },
   "outputs": [],
   "source": [
    "Ttrain"
   ]
  },
  {
   "cell_type": "code",
   "execution_count": null,
   "metadata": {
    "collapsed": true
   },
   "outputs": [],
   "source": [
    "Xtest"
   ]
  },
  {
   "cell_type": "code",
   "execution_count": null,
   "metadata": {
    "collapsed": true
   },
   "outputs": [],
   "source": [
    "Ttest"
   ]
  },
  {
   "cell_type": "markdown",
   "metadata": {},
   "source": [
    "## ReLU and tanh"
   ]
  },
  {
   "cell_type": "markdown",
   "metadata": {},
   "source": [
    "The following section reads in data from the energydata_complete.csv and puts data into numpy arrays;X containing the input values and T containing the target values from the data. It then tests the different activations and graphs the differences between the two over multiple hidden layers. "
   ]
  },
  {
   "cell_type": "code",
   "execution_count": 12,
   "metadata": {},
   "outputs": [],
   "source": [
    "import pandas\n",
    "\n",
    "# Reading in file via pandas, and putting values into T(target) and X(inputs)\n",
    "data = pandas.read_csv('energydata_complete.csv')\n",
    "T = data[['Appliances']]\n",
    "T = np.array(T)\n",
    "X = data.drop(['date','Appliances', 'rv1', 'rv2'], axis=1)\n",
    "X = np.array(X)\n",
    "\n",
    "\n",
    "\n",
    "# Getting labels for T and X\n",
    "names = data.keys()\n",
    "Xnames = names[3:27]\n",
    "Tnames = names[0:2]\n",
    "Xnames = Xnames.insert(0, 'bias')\n",
    "\n",
    "#print(X)\n",
    "#print(T)"
   ]
  },
  {
   "cell_type": "code",
   "execution_count": 6,
   "metadata": {
    "collapsed": true
   },
   "outputs": [],
   "source": [
    "def rmse(A, B):\n",
    "    return np.sqrt(np.mean((A - B)**2))"
   ]
  },
  {
   "cell_type": "code",
   "execution_count": 7,
   "metadata": {
    "collapsed": true
   },
   "outputs": [],
   "source": [
    "import neuralnetworksA2 as nn"
   ]
  },
  {
   "cell_type": "code",
   "execution_count": 8,
   "metadata": {
    "collapsed": true
   },
   "outputs": [],
   "source": [
    "# Helper method which gets the averages from a stack of RMSE's\n",
    "def meanFromData(V):\n",
    "    tanhMeanTrain = V[:,0].mean()\n",
    "    tanhMeanTest = V[:,1].mean()\n",
    "    reluMeanTrain = V[:,2].mean()\n",
    "    reluMeanTest = V[:,3].mean()\n",
    "    return tanhMeanTrain, tanhMeanTest,reluMeanTrain,reluMeanTest;"
   ]
  },
  {
   "cell_type": "code",
   "execution_count": 11,
   "metadata": {},
   "outputs": [
    {
     "name": "stdout",
     "output_type": "stream",
     "text": [
      "                   0          1          2          3          4\n",
      "0                  0  46.894716  46.682056  47.232736  45.296076\n",
      "1                [1]  62.406553  62.422609  63.067321  59.708888\n",
      "2             [1, 1]  69.984481  69.989614  70.449134  68.080108\n",
      "3          [1, 1, 1]  74.430418  74.931212  74.850707  73.213822\n",
      "4       [1, 1, 1, 1]  77.403359  78.249937  77.845661  76.457441\n",
      "5                [2]  79.433621  80.107751  79.794680  78.647837\n",
      "6             [2, 2]  81.039582  81.159471  81.331012  79.984618\n",
      "7          [2, 2, 2]  82.170331  82.109080  82.508529  80.748548\n",
      "8       [2, 2, 2, 2]  83.103596  82.733243  83.320297  81.867490\n",
      "9                [5]  83.527209  83.688920  83.813150  82.556230\n",
      "10            [5, 5]  83.871658  83.930239  84.100175  83.032605\n",
      "11         [5, 5, 5]  84.115934  84.632028  84.338019  83.762738\n",
      "12      [5, 5, 5, 5]  84.415192  84.764195  84.586137  84.099652\n",
      "13              [10]  84.582639  85.001053  84.717691  84.476040\n",
      "14          [10, 10]  84.538275  85.130076  84.708554  84.465205\n",
      "15      [10, 10, 10]  84.509487  85.316317  84.731318  84.449473\n",
      "16  [10, 10, 10, 10]  84.519150  85.365295  84.738855  84.502901\n"
     ]
    },
    {
     "data": {
      "image/png": "[encoded data removed]",
      "text/plain": [
       "<matplotlib.figure.Figure at 0x7f5fee4e4cc0>"
      ]
     },
     "metadata": {},
     "output_type": "display_data"
    }
   ],
   "source": [
    "#ReLU and tanh activation testing\n",
    "import pandas as pd\n",
    "errors = []\n",
    "hiddens = [0] + [[nu] * nl for nu in [1,2,5,10] for nl in [1,2,3,4]]\n",
    "V = np.zeros(shape=(2,4))\n",
    "for hids in hiddens:\n",
    "    for x in range(2):\n",
    "        # tanh activation\n",
    "        Xtrain, Ttrain, Xtest, Ttest = partition(X, T, 0.8, shuffle=True)\n",
    "        nnet = nn.NeuralNetwork(Xtrain.shape[1], hids, Ttrain.shape[1])\n",
    "        nnet.train(Xtrain, Ttrain, 100)\n",
    "        stack = [rmse(Ttrain, nnet.use(Xtrain)), rmse(Ttest, nnet.use(Xtest))]\n",
    "        # ReLU activation\n",
    "        Xtrain, Ttrain, Xtest, Ttest = partition(X, T, 0.8, shuffle=True)\n",
    "        nnetrelu = nn.NeuralNetworkReLU(Xtrain.shape[1], hids, Ttrain.shape[1])\n",
    "        nnetrelu.train(Xtrain, Ttrain, 100)\n",
    "        stack.extend([rmse(Ttrain, nnet.use(Xtrain)), rmse(Ttest, nnet.use(Xtest))])\n",
    "        \n",
    "        V = np.vstack([V,stack]) \n",
    "    \n",
    "    tanhMeanTrain,tanhMeanTest,reluMeanTrain,reluMeanTest = meanFromData(V)\n",
    "    errors.append([hids, tanhMeanTrain,tanhMeanTest,reluMeanTrain,reluMeanTest])\n",
    "    \n",
    "errors = pd.DataFrame(errors)\n",
    "print(errors)\n",
    "\n",
    "plt.figure(figsize=(10, 10))\n",
    "plt.plot(errors.values[:, 1:], 'o-')\n",
    "plt.legend(('tanh Train RMSE','tanh Test RMSE','ReLU Train RMSE', 'ReLU Test RMSE',))\n",
    "plt.xticks(range(errors.shape[0]), hiddens, rotation=30, horizontalalignment='right')\n",
    "plt.grid(True)"
   ]
  },
  {
   "cell_type": "markdown",
   "metadata": {},
   "source": [
    "## Discussion\n"
   ]
  },
  {
   "cell_type": "markdown",
   "metadata": {},
   "source": [
    "The first thing to note about the data above, is that I was unable to test the different activations with the full range of repetitions and hidden layers. I was only able to repeat the training twice, and on hidden layers from 1,2,5, and 10 and only 4 layers deep. This was mainly due to errors I had to correct in the neuralnetworkA2.py file, as well as in this notebook. That partered with my slower processor, and the time it takes to fully train the data were too constraining for this assignment.\n",
    "\n",
    "With technical difficulties asside, we can still analyze and observe the data that was graphed. The general trend of the data seemed to be that the error value went up further the more layers that were added. It also seemed that the value of the means of the errors went up as the values in the layers went up. All four of the things plotted seemed to rise very rapidly, and then converge at a RMSE of 85. \n",
    "\n",
    "The ReLU errors of the test data were always below the training data of ReLU, and infact everything else graphed. I found this very interesting because the test data for tanh mostly held above the training data of the tanh, and It reached the highest error value with 85.365. I find this very interesting because the testing and training of the two activations seem to fair differently, I think more testing would have helped fully flesh out if this is an isolated occurance or something that would be common between the two activations. \n",
    "\n",
    "The final thing that I noticed was that the data seemed to converge with the more complex layers. They were spread more and once they reached the [5,5,5,5] layer they began to become closer together. This may be a limitation that all activations would have, or it might show that these two activations may be somewhat comparable in their accuracy on certain data sets. "
   ]
  }
 ],
 "metadata": {
  "kernelspec": {
   "display_name": "Python 3",
   "language": "python",
   "name": "python3"
  },
  "language_info": {
   "codemirror_mode": {
    "name": "ipython",
    "version": 3
   },
   "file_extension": ".py",
   "mimetype": "text/x-python",
   "name": "python",
   "nbconvert_exporter": "python",
   "pygments_lexer": "ipython3",
   "version": "3.6.3"
  }
 },
 "nbformat": 4,
 "nbformat_minor": 1
}
