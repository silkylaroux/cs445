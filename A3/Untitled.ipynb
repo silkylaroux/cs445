{
 "cells": [
  {
   "cell_type": "code",
   "execution_count": null,
   "metadata": {
    "collapsed": true
   },
   "outputs": [],
   "source": [
    "class NeuralNetworkReLU(NeuralNetwork):\n",
    "    \n",
    "    def activation(self, weighted_sum):\n",
    "        return np.maximum(weighted_sum, 0, weighted_sum)\n",
    "    \n",
    "    def activationDerivative(self, weighted_sum):\n",
    "        if(weighted_sum >= 0.0):\n",
    "            return 1\n",
    "        if(weighted_sum < 0.0):\n",
    "            return 0"
   ]
  }
 ],
 "metadata": {
  "kernelspec": {
   "display_name": "Python 3",
   "language": "python",
   "name": "python3"
  },
  "language_info": {
   "codemirror_mode": {
    "name": "ipython",
    "version": 3
   },
   "file_extension": ".py",
   "mimetype": "text/x-python",
   "name": "python",
   "nbconvert_exporter": "python",
   "pygments_lexer": "ipython3",
   "version": "3.6.3"
  }
 },
 "nbformat": 4,
 "nbformat_minor": 2
}
