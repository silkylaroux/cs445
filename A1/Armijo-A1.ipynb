{
 "cells": [
  {
   "cell_type": "markdown",
   "metadata": {},
   "source": [
    "$\\newcommand{\\xv}{\\mathbf{x}}\n",
    "\\newcommand{\\Xv}{\\mathbf{X}}\n",
    "\\newcommand{\\yv}{\\mathbf{y}}\n",
    "\\newcommand{\\zv}{\\mathbf{z}}\n",
    "\\newcommand{\\av}{\\mathbf{a}}\n",
    "\\newcommand{\\Wv}{\\mathbf{W}}\n",
    "\\newcommand{\\wv}{\\mathbf{w}}\n",
    "\\newcommand{\\tv}{\\mathbf{t}}\n",
    "\\newcommand{\\Tv}{\\mathbf{T}}\n",
    "\\newcommand{\\muv}{\\boldsymbol{\\mu}}\n",
    "\\newcommand{\\sigmav}{\\boldsymbol{\\sigma}}\n",
    "\\newcommand{\\phiv}{\\boldsymbol{\\phi}}\n",
    "\\newcommand{\\Phiv}{\\boldsymbol{\\Phi}}\n",
    "\\newcommand{\\Sigmav}{\\boldsymbol{\\Sigma}}\n",
    "\\newcommand{\\Lambdav}{\\boldsymbol{\\Lambda}}\n",
    "\\newcommand{\\half}{\\frac{1}{2}}\n",
    "\\newcommand{\\argmax}[1]{\\underset{#1}{\\operatorname{argmax}}}\n",
    "\\newcommand{\\argmin}[1]{\\underset{#1}{\\operatorname{argmin}}}$"
   ]
  },
  {
   "cell_type": "markdown",
   "metadata": {},
   "source": [
    "# Assignment 1: Linear Regression\n",
    "Damian Armijo"
   ]
  },
  {
   "cell_type": "markdown",
   "metadata": {},
   "source": [
    "## Overview"
   ]
  },
  {
   "cell_type": "markdown",
   "metadata": {},
   "source": [
    "The overall objective of the assignment is to observe a how a linear model of the data provided by the UCI data set will look. It is also to see how well the trained data will follow with regards to the actual data provided. "
   ]
  },
  {
   "cell_type": "markdown",
   "metadata": {},
   "source": [
    "## Method"
   ]
  },
  {
   "cell_type": "code",
   "execution_count": 881,
   "metadata": {
    "scrolled": true
   },
   "outputs": [
    {
     "name": "stdout",
     "output_type": "stream",
     "text": [
      "\n",
      " Weights for date target\n",
      "\n",
      "  97.695  bias\n",
      "  63.936  RH_1\n",
      " -58.647  RH_2\n",
      " -56.604  T_out\n",
      "  50.910  T3\n",
      "  46.661  T6\n",
      " -44.540  T9\n",
      " -44.521  T2\n",
      " -30.857  RH_8\n",
      "  21.314  Tdewpoint\n",
      "  19.862  T8\n",
      "  16.429  RH_3\n",
      " -13.590  RH_out\n",
      "  10.814  RH_6\n",
      "  -9.426  RH_7\n",
      "   8.452  RH_4\n",
      "  -6.227  RH_9\n",
      "   6.079  T4\n",
      "   5.219  Windspeed\n",
      "   2.385  T7\n",
      "   2.157  RH_5\n",
      "   2.078  Visibility\n",
      "   0.910  Press_mm_hg\n",
      "   0.622  T1\n",
      "  -0.020  T5\n",
      "\n",
      " Weights for Appliances target\n",
      "\n",
      "   6.618  T4\n",
      "  -6.296  T9\n",
      "   4.643  RH_4\n",
      "   3.802  bias\n",
      "  -3.242  RH_8\n",
      "  -2.866  T2\n",
      "   1.971  T8\n",
      "  -1.909  RH_2\n",
      "   1.832  RH_1\n",
      "   1.632  T6\n",
      "  -1.260  RH_9\n",
      "   1.148  RH_out\n",
      "  -1.101  T_out\n",
      "   0.929  RH_6\n",
      "   0.802  T1\n",
      "  -0.751  RH_7\n",
      "  -0.706  T7\n",
      "   0.524  Windspeed\n",
      "   0.441  RH_5\n",
      "   0.203  RH_3\n",
      "   0.131  Visibility\n",
      "  -0.062  Press_mm_hg\n",
      "   0.058  Tdewpoint\n",
      "  -0.032  T3\n",
      "   0.007  T5\n"
     ]
    }
   ],
   "source": [
    "import pandas\n",
    "import numpy as np\n",
    "import matplotlib.pyplot as plt\n",
    "%matplotlib inline\n",
    "%precision 3\n",
    "\n",
    "# Reading in file via pandas, and putting values into T(target) and X(inputs)\n",
    "data = pandas.read_csv('energydata_complete.csv')\n",
    "T = data[['Appliances', 'lights']]\n",
    "T = np.array(T)\n",
    "X = data.drop(['date','Appliances', 'lights', 'rv1', 'rv2'], axis=1)\n",
    "X = np.array(X)\n",
    "\n",
    "\n",
    "\n",
    "# Getting labels for T and X\n",
    "names = data.keys()\n",
    "Xnames = names[3:27]\n",
    "Tnames = names[0:2]\n",
    "Xnames = Xnames.insert(0, 'bias')\n",
    "\n",
    "\n",
    "# Calling the train function. \n",
    "model = train(X,T)\n",
    "\n",
    "# Calling the use function.  \n",
    "predict = use(model, X)\n",
    "\n",
    "# Calling the rmse function\n",
    "error = rmse(predict, T)\n",
    "\n",
    "# Calling the trainSGD function.\n",
    "modelSGD = trainSGD(X, T, 0.01, 100)\n",
    "\n",
    "prediction = predict\n",
    "\n",
    "# Plotting of prediction data with reference of linear line\n",
    "plt.figure(figsize=(10,10))\n",
    "for p in range(2):\n",
    "    plt.subplot(2, 1, p+1)\n",
    "    plt.plot(prediction[:, p], T[:, p], 'o')\n",
    "    plt.xlabel(\"Predicted appliances\")\n",
    "    plt.ylabel(\"Predicted light\")\n",
    "    a = max(min(prediction[:, p]), min(T[:, p]))\n",
    "    b = min(max(prediction[:, p]), max(T[:, p]))\n",
    "    plt.plot([a, b], [a, b], 'r', linewidth=3)\n",
    "    \n",
    "w = model[\"w\"]\n",
    "Xnames = np.array(Xnames)\n",
    "for targeti in range(2):\n",
    "    print('\\n Weights for {} target\\n'.format(Tnames[targeti]))\n",
    "    thisw = w[:, targeti]\n",
    "    sortedOrder = np.argsort(np.abs(thisw))[::-1]\n",
    "    for wi ,name in zip(thisw[sortedOrder], Xnames[sortedOrder]):\n",
    "        print('{:8.3f}  {:s}'.format(wi, name))\n",
    "\n",
    "#plotgraph(X,data)\n"
   ]
  },
  {
   "cell_type": "code",
   "execution_count": 860,
   "metadata": {
    "collapsed": true
   },
   "outputs": [],
   "source": [
    "def use(mod, X):\n",
    "    \n",
    "    means = mod[\"means\"]\n",
    "    stds = mod[\"stds\"]\n",
    "    Xs = (X - means)/stds\n",
    "    X1 = np.insert(Xs, 0, 1, 1)  # X1 is the standardized inputs with bias\n",
    "    \n",
    "    w = mod[\"w\"]\n",
    "  \n",
    "    predict = X1 @ w \n",
    "    \n",
    "    return predict\n",
    "    "
   ]
  },
  {
   "cell_type": "code",
   "execution_count": 861,
   "metadata": {
    "collapsed": true
   },
   "outputs": [],
   "source": [
    "# This function returns the error between the predicted data and the target data\n",
    "def rmse(pred, T):\n",
    "    \n",
    "    rmse = np.sqrt(np.mean((pred - T)**2))\n",
    "  \n",
    "    return rmse"
   ]
  },
  {
   "cell_type": "code",
   "execution_count": 862,
   "metadata": {
    "collapsed": true
   },
   "outputs": [],
   "source": [
    "# This function standardizes the input and returns\n",
    "# a dictionary containing the means, standard deviations, and weight of X and X\n",
    "# with respect to T.\n",
    "def train(X, T):\n",
    "    means = X.mean(0)\n",
    "    stds = X.std(0)\n",
    "    \n",
    "    Xs = (X - means)/stds\n",
    "    X1 = np.insert(Xs, 0, 1, 1)    # X1 is the standardized inputs with bias\n",
    "    \n",
    "    w = np.linalg.lstsq( X1.T @ X1, X1.T @ T)  # w is the weight created from the standardized inputs\n",
    "    w = w[0]\n",
    "    \n",
    "    model = {\"means\":means, \"stds\":stds, \"w\":w}\n",
    "    return model\n"
   ]
  },
  {
   "cell_type": "code",
   "execution_count": 847,
   "metadata": {
    "collapsed": true
   },
   "outputs": [],
   "source": [
    "def trainSGD(X, T, learningRate, numberOfIterations):\n",
    "    means = X.mean(0)\n",
    "    stds = X.std(0)\n",
    "    Xs = (X - means)/stds\n",
    "    X1 = np.insert(Xs, 0, 1, 1)    # X1 is the standardized inputs with bias\n",
    "    \n",
    "    nOutputs = T.shape[1]\n",
    "    nInputs = X1.shape[1]\n",
    "    \n",
    "    w = np.zeros((nInputs,nOutputs))    # w is the weight that will be updated linearly as the training goes on\n",
    "\n",
    "    step = 0\n",
    "    for iter in range(numberOfIterations):\n",
    "        for n in range(X.shape[0]):\n",
    "            step += 1\n",
    "        \n",
    "            predicted = X1[n:n+1,:] @ w  \n",
    "            w += learningRate * X1[n:n+1, :].T * (T[n:n+1, :] - predicted)\n",
    "    return {\"means\":means, \"stds\":stds, \"w\":w}\n"
   ]
  },
  {
   "cell_type": "code",
   "execution_count": 816,
   "metadata": {
    "collapsed": true
   },
   "outputs": [],
   "source": [
    "# This is a helper function that can be used to standardize the input data from X\n",
    "def makeStandardize(X):\n",
    "    means = X.mean(0)\n",
    "    stds = X.std(0)\n",
    "    \n",
    "    def standardize(origX):\n",
    "        return (origX - means) / stds\n",
    "    \n",
    "    def unStandardize(stdX):\n",
    "        return stds * stdX + means\n",
    "    \n",
    "    return (standardize, unStandardize)"
   ]
  },
  {
   "cell_type": "code",
   "execution_count": 877,
   "metadata": {},
   "outputs": [],
   "source": [
    "# A method that is used to plot out the different graphs of actual energy use vs predicted.\n",
    "def plotgraph(X, data):\n",
    "    plt.figure(figsize=(15, 15))\n",
    "    nrow, ncol = X.shape\n",
    "    names = data.keys()\n",
    "    for c in range(ncol):\n",
    "        plt.tight_layout()\n",
    "        plt.subplot(5, 5, c+2)\n",
    "        plt.plot(X[:, c],'o')\n",
    "        plt.ylabel(names[c+4])    \n",
    "    "
   ]
  },
  {
   "cell_type": "markdown",
   "metadata": {},
   "source": [
    "This is the equation that is to be used in order to find the weights. It is also what has been done in python in the above train(X, T) function. Because there are two targets for this assignment the shape of the wieght ends up being (25, 2) with 25 being the amount of input variables with a bias.\n",
    "\n",
    "$$\n",
    "\\begin{align*}\n",
    "\\wv &= (\\Xv^T \\Xv)^{-1} \\Xv^T \\Tv\n",
    "\\end{align*}\n",
    "$$\n",
    "\n",
    "The following equation is used to find the root-mean-square-error(RMSE). This was used in the rmse function and is used to calculate the error of the predictions.\n",
    "$$\n",
    "\\begin{align*}\n",
    "rmse &= ({\\sqrt{\\overline{prediction}-T}})^{2}\n",
    "\\end{align*}\n",
    "$$\n",
    "\n",
    "The next function is used in the trainSGD(X, T, learningRate, numberOfIterations) function. This is used to train the data linearly and apply the weights as the data is added. The two for loops at the end of the function is what implements this function.\n",
    "\n",
    "$$\n",
    "\\begin{align*}\n",
    "\\wv^{(k)} + \\eta \\xv_n (\\tv_n^T - \\xv_n^T  \\wv) \n",
    "\\end{align*}\n",
    "$$\n",
    "\n",
    "\n",
    "For my project I imported numpy as np and matplotlib.plylot as plt. I also imported the pandas package for reading in the data from a .csv file. \n",
    "\n",
    "\n"
   ]
  },
  {
   "cell_type": "markdown",
   "metadata": {},
   "source": [
    "## Data\n",
    "\n",
    "The data was supplied from UCI site and includes data about the temperature and humidity in different rooms of an energy efficient house. There was a total of 24 different inputs that were taken into account for this assignment. There were two target variables that were looked at in this data set, appliances and lights, these were measured in Wh and looked at the energy used by the appliances and lights in the house. According the to UCI site the measurements were taken by a \"ZigBee wireless sensor network.\" Luis Candanedo from UMONS is the source for the supplied data. "
   ]
  },
  {
   "cell_type": "markdown",
   "metadata": {},
   "source": [
    "## Results"
   ]
  },
  {
   "attachments": {
    "graph.png": {
     "image/png": "[encoded data removed]"
    }
   },
   "cell_type": "markdown",
   "metadata": {},
   "source": [
    "![graph.png](attachment:graph.png)\n",
    "\n",
    "The above graphs shows the accuracy of the training data with a comparison to the 45 degree line that the data should be following. The first graph seems to be somewhat accurate, but with a lot of plots outside of the line. The next graph shows that the training data does not really follow the desired linear fit. I think that removing some input variables may make the trained data more accurate.\n",
    "\n",
    "Below are the weights created by the target data from the training method, there are some inputs that seem to not be beneficial to helping out the data. Some of the inputs that can be probably excluded are T5, visibillity and press_mm_hg. These inputs seem to be impactful and have low weights for both lights and appliances.\n",
    "\n",
    " Weights for Light target\n",
    "\n",
    "  97.695  bias\n",
    "  63.936  RH_1\n",
    " -58.647  RH_2\n",
    " -56.604  T_out\n",
    "  50.910  T3\n",
    "  46.661  T6\n",
    " -44.540  T9\n",
    " -44.521  T2\n",
    " -30.857  RH_8\n",
    "  21.314  Tdewpoint\n",
    "  19.862  T8\n",
    "  16.429  RH_3\n",
    " -13.590  RH_out\n",
    "  10.814  RH_6\n",
    "  -9.426  RH_7\n",
    "   8.452  RH_4\n",
    "  -6.227  RH_9\n",
    "   6.079  T4\n",
    "   5.219  Windspeed\n",
    "   2.385  T7\n",
    "   2.157  RH_5\n",
    "   2.078  Visibility\n",
    "   0.910  Press_mm_hg\n",
    "   0.622  T1\n",
    "  -0.020  T5\n",
    "\n",
    " Weights for Appliances target\n",
    "\n",
    "   6.618  T4\n",
    "  -6.296  T9\n",
    "   4.643  RH_4\n",
    "   3.802  bias\n",
    "  -3.242  RH_8\n",
    "  -2.866  T2\n",
    "   1.971  T8\n",
    "  -1.909  RH_2\n",
    "   1.832  RH_1\n",
    "   1.632  T6\n",
    "  -1.260  RH_9\n",
    "   1.148  RH_out\n",
    "  -1.101  T_out\n",
    "   0.929  RH_6\n",
    "   0.802  T1\n",
    "  -0.751  RH_7\n",
    "  -0.706  T7\n",
    "   0.524  Windspeed\n",
    "   0.441  RH_5\n",
    "   0.203  RH_3\n",
    "   0.131  Visibility\n",
    "  -0.062  Press_mm_hg\n",
    "   0.058  Tdewpoint\n",
    "  -0.032  T3\n",
    "   0.007  T5\n",
    "\n"
   ]
  }
 ],
 "metadata": {
  "kernelspec": {
   "display_name": "Python 3",
   "language": "python",
   "name": "python3"
  },
  "language_info": {
   "codemirror_mode": {
    "name": "ipython",
    "version": 3
   },
   "file_extension": ".py",
   "mimetype": "text/x-python",
   "name": "python",
   "nbconvert_exporter": "python",
   "pygments_lexer": "ipython3",
   "version": "3.6.3"
  }
 },
 "nbformat": 4,
 "nbformat_minor": 2
}
