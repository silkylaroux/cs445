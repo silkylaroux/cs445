{
 "cells": [
  {
   "cell_type": "markdown",
   "metadata": {
    "nbpresent": {
     "id": "e21b03aa-fee5-4bee-a2c5-a1631c4476d3"
    },
    "slideshow": {
     "slide_type": "slide"
    }
   },
   "source": [
    "# Course Overview\n",
    "\n",
    "CS445, Spring 2018\n",
    "\n",
    "[Chuck Anderson](http://www.cs.colostate.edu/~anderson), Colorado State University\n",
    "\n",
    "Course web site:  [http://www.cs.colostate.edu/~cs445](http://www.cs.colostate.edu/~anderson/cs445)"
   ]
  },
  {
   "cell_type": "markdown",
   "metadata": {
    "nbpresent": {
     "id": "f088f6e2-d750-4470-ad37-5f5656d3a01e"
    },
    "slideshow": {
     "slide_type": "slide"
    }
   },
   "source": [
    "**Objectives of Machine Learning**\n",
    "\n",
    "*Making the simple complicated is commonplace; making the complicated\n",
    "simple, awesomely simple, that's creativity.* --[Charles Mingus](http://en.wikiquote.org/wiki/Charles_Mingus)\n",
    "\n",
    "Given some data, as samples of measurements, variable values, attributes, or features,\n",
    "\n",
    "  * **find**: outliers, anomolies, redundant variables\n",
    "  * **explain**: relationships, dependencies\n",
    "  * **predict**: some variables from others\n",
    "  * **classify**: samples into categories\n",
    "  * **control**: by selecting actions in sequence that optimizes performance"
   ]
  },
  {
   "cell_type": "markdown",
   "metadata": {
    "nbpresent": {
     "id": "a24086cc-b67c-48b9-bf91-c0cd7e1afe9e"
    },
    "slideshow": {
     "slide_type": "slide"
    }
   },
   "source": [
    "**Types of Machine Learning Algorithms**\n",
    "\n",
    "* **Supervised Learning**: Given known data samples as pairs of inputs and correct outputs, find function that approximates the desired output for each input and that makes \"good\" guesses at the correct output for novel inputs.\n",
    "* **Unsupervised Learning**: Given known data input samples, find regularities, such as clusters and outliers. There is no \"supervisor\" who knows correct outputs.\n",
    "* **Reinforcement Learning**: Data samples become available as learning agent interacts with an environment by applying actions. Learning objective is to optimize an objective that depends on the sequence of actions and their effects on the environment, such as in game playing, robotic control, and planning."
   ]
  },
  {
   "cell_type": "markdown",
   "metadata": {
    "nbpresent": {
     "id": "ccfed42a-500c-4583-ab78-9fcc9754af62"
    },
    "slideshow": {
     "slide_type": "slide"
    }
   },
   "source": [
    "** Your Objectives in Class **\n",
    "\n",
    "  * Develop intuition for finding patterns in data.\n",
    "  * Learn concepts and algorithms in machine learning research.\n",
    "  * Learn to program in python using packages numpy and matplotlib.\n",
    "  * Implement many common machine learning algorithms in python using matrix operations instead of for loops.\n",
    "  * Write python code to apply algorithms to various data sets.\n",
    "  * Use python to analyze and visualize results.\n",
    "  * Learn to write scientific reports with executable code using jupyter notebooks.\n",
    "  * Learn to do machine learning research by asking and answering questions about your data and  results."
   ]
  },
  {
   "cell_type": "markdown",
   "metadata": {
    "nbpresent": {
     "id": "2078dbac-315d-4261-a02f-14e2ca5372d1"
    },
    "slideshow": {
     "slide_type": "slide"
    }
   },
   "source": [
    "**Tools**\n",
    "\n",
    "* Python\n",
    "    * [*anaconda*](https://anaconda.org/) distribution to install python on your computer\n",
    "    * *ipython* interpreter, for incremental code development\n",
    "    * [*numpy*](http://www.numpy.org) for matrices\n",
    "    * [*matplotlib*](http://matplotlib.org/gallery.html) for visualization\n",
    "    * [*pandas*](https://pandas.pydata.org/) for reading, organizing and plotting data\n",
    "    * [popular](http://pypl.github.io/PYPL.html), huge community\n",
    "    * [jupyter notebook](https://jupyter.org/), See [Literate Computing](http://nbviewer.ipython.org/github/fperez/blog/blob/master/130418-Data-driven%20journalism.ipynb#\"Literate-computing\"-and-computational-reproducibility:-IPython-in-the-age-of-data-driven-journalism) and  [Reproducible Research](http://peterwittek.com/2014/05/reproducible-research-literate-programming-ipython-and-github/)"
   ]
  },
  {
   "cell_type": "markdown",
   "metadata": {
    "nbpresent": {
     "id": "eaadb5ca-625f-45b6-abf8-a77efb97321e"
    },
    "slideshow": {
     "slide_type": "slide"
    }
   },
   "source": [
    "**Skills You Will Learn** or **Steps You Will Do For Each Assignment**\n",
    "\n",
    "* Python\n",
    "* Obtain interesting data sets and understand previous approaches.\n",
    "* Read data into python and visualize it.\n",
    "* Implement machine learning methods and apply to data.\n",
    "* Fairly and honestly compare results.\n",
    "* Write descriptions of data, methods, results, discussion, and conclusion in a jupyter notebook"
   ]
  },
  {
   "cell_type": "markdown",
   "metadata": {
    "nbpresent": {
     "id": "94c5e8de-69cc-4f25-9ef1-00808158f028"
    },
    "slideshow": {
     "slide_type": "slide"
    }
   },
   "source": [
    "**Grades**\n",
    "\n",
    "  * Average of about 7 assignments. Same ones for on and off-campus students.\n",
    "  * Implement a machine learning algorithm in python, apply it to a given data set, write report in a jupyter notebook.\n",
    "  * You will submit your jupyter notebook via Canvas.\n",
    "  * The last assignment will be of your own design."
   ]
  },
  {
   "cell_type": "markdown",
   "metadata": {
    "nbpresent": {
     "id": "56ff3188-7017-4d03-a755-09799262cb57"
    },
    "slideshow": {
     "slide_type": "slide"
    }
   },
   "source": [
    "**The Power of Statistics and Visualization**\n",
    "\n",
    "Simple analysis and dynamic visualization can lead to tremendous\n",
    "insight with little effort.  For example, take the time to watch the\n",
    "video at ted.com by Hans Rosling: \n",
    "\n",
    "* [Talk by Hans Rosling](http://www.ted.com/talks/hans_rosling_shows_the_best_stats_you_ve_ever_seen.html)\n",
    "* [How To Make Beautiful Data Visualizations in Python with Matplotlib](http://www.randalolson.com/2014/06/28/how-to-make-beautiful-data-visualizations-in-python-with-matplotlib/)\n"
   ]
  },
  {
   "cell_type": "markdown",
   "metadata": {
    "nbpresent": {
     "id": "1e879024-7bce-422e-b800-2ef42f68c408"
    },
    "slideshow": {
     "slide_type": "slide"
    }
   },
   "source": [
    "**Examples of Kinds of Problems We Will Study**\n",
    "\n",
    "  * Classify images of handwritten digits.  (supervised learning: classification)\n",
    "  * Predict miles per gallon for automobiles given inputs like horsepower and engine size (supervised learning: prediction)\n",
    "  * Learn a strategy for winning a game like Tic-Tac-Toe (reinforcement learning)\n",
    "  * Given gene expression data find groupings that are common among the different treatments. (unsupervised learning)"
   ]
  },
  {
   "cell_type": "markdown",
   "metadata": {
    "nbpresent": {
     "id": "59ed3fea-2e73-4be5-8a67-c528f3b66152"
    },
    "slideshow": {
     "slide_type": "slide"
    }
   },
   "source": [
    "**Your First Task**\n",
    "\n",
    "* Install Python. [Install Anaconda](http://docs.continuum.io/anaconda/install)\n",
    "* Watch Section 1 [Scipy Lecture Notes](http://www.scipy-lectures.org/)\n",
    "* Run `ipython`, try most of the examples in Section 1."
   ]
  }
 ],
 "metadata": {
  "anaconda-cloud": {},
  "celltoolbar": "Slideshow",
  "kernelspec": {
   "display_name": "Python 3",
   "language": "python",
   "name": "python3"
  },
  "language_info": {
   "codemirror_mode": {
    "name": "ipython",
    "version": 3
   },
   "file_extension": ".py",
   "mimetype": "text/x-python",
   "name": "python",
   "nbconvert_exporter": "python",
   "pygments_lexer": "ipython3",
   "version": "3.6.3"
  },
  "nbpresent": {
   "slides": {
    "300e87f1-c5fe-426e-b0ff-c3cef9117f76": {
     "id": "300e87f1-c5fe-426e-b0ff-c3cef9117f76",
     "prev": "5adb7220-b003-4c53-81ae-57dc4ea8c5a9",
     "regions": {
      "5b619eab-81de-44cf-9d6e-b2ff893273f6": {
       "attrs": {
        "height": 0.8,
        "width": 0.8,
        "x": 0.1,
        "y": 0.1
       },
       "content": {
        "cell": "56ff3188-7017-4d03-a755-09799262cb57",
        "part": "whole"
       },
       "id": "5b619eab-81de-44cf-9d6e-b2ff893273f6"
      }
     }
    },
    "40cfa825-304d-4312-bb7e-c2daff7f7b1e": {
     "id": "40cfa825-304d-4312-bb7e-c2daff7f7b1e",
     "prev": "43e62053-f0dc-40fa-9936-584e53a956cf",
     "regions": {
      "ba029cf5-2b09-4875-9975-eb62f3281a4a": {
       "attrs": {
        "height": 0.8,
        "width": 0.8,
        "x": 0.1,
        "y": 0.1
       },
       "content": {
        "cell": "eaadb5ca-625f-45b6-abf8-a77efb97321e",
        "part": "whole"
       },
       "id": "ba029cf5-2b09-4875-9975-eb62f3281a4a"
      }
     }
    },
    "43e62053-f0dc-40fa-9936-584e53a956cf": {
     "id": "43e62053-f0dc-40fa-9936-584e53a956cf",
     "prev": "667adda6-041c-4475-b4d5-77cf53b6b258",
     "regions": {
      "80b21e13-aa9e-4fed-b384-8225e88e1e88": {
       "attrs": {
        "height": 0.8,
        "width": 0.8,
        "x": 0.1,
        "y": 0.1
       },
       "content": {
        "cell": "2078dbac-315d-4261-a02f-14e2ca5372d1",
        "part": "whole"
       },
       "id": "80b21e13-aa9e-4fed-b384-8225e88e1e88"
      }
     }
    },
    "528fcdac-c32c-4700-a10f-e1288842e43f": {
     "id": "528fcdac-c32c-4700-a10f-e1288842e43f",
     "prev": "d97efc58-1e7e-4cfa-bce4-51d2aa18b350",
     "regions": {
      "04ebe007-c78c-4db4-9212-22c41790f846": {
       "attrs": {
        "height": 0.8,
        "width": 0.8,
        "x": 0.1,
        "y": 0.1
       },
       "content": {
        "cell": "e21b03aa-fee5-4bee-a2c5-a1631c4476d3",
        "part": "whole"
       },
       "id": "04ebe007-c78c-4db4-9212-22c41790f846"
      }
     }
    },
    "5adb7220-b003-4c53-81ae-57dc4ea8c5a9": {
     "id": "5adb7220-b003-4c53-81ae-57dc4ea8c5a9",
     "prev": "40cfa825-304d-4312-bb7e-c2daff7f7b1e",
     "regions": {
      "63d44c7e-6d3e-4d3f-9b76-abbfacbc7107": {
       "attrs": {
        "height": 0.8,
        "width": 0.8,
        "x": 0.1,
        "y": 0.1
       },
       "content": {
        "cell": "94c5e8de-69cc-4f25-9ef1-00808158f028",
        "part": "whole"
       },
       "id": "63d44c7e-6d3e-4d3f-9b76-abbfacbc7107"
      }
     }
    },
    "667adda6-041c-4475-b4d5-77cf53b6b258": {
     "id": "667adda6-041c-4475-b4d5-77cf53b6b258",
     "prev": "897d2d49-2757-420a-a2d7-2254890fe62c",
     "regions": {
      "bee40930-489a-48bd-ab38-0d93b6f75b60": {
       "attrs": {
        "height": 0.8,
        "width": 0.8,
        "x": 0.1,
        "y": 0.1
       },
       "content": {
        "cell": "ccfed42a-500c-4583-ab78-9fcc9754af62",
        "part": "whole"
       },
       "id": "bee40930-489a-48bd-ab38-0d93b6f75b60"
      }
     }
    },
    "693978e0-0af8-4a39-aea5-b9a956b7b4e3": {
     "id": "693978e0-0af8-4a39-aea5-b9a956b7b4e3",
     "prev": "74064f6a-d94f-47aa-835f-738ecb873af8",
     "regions": {
      "4ddb144c-9bcb-4adc-8c26-9919d709194e": {
       "attrs": {
        "height": 0.8,
        "width": 0.8,
        "x": 0.1,
        "y": 0.1
       },
       "content": {
        "cell": "4ab4fae0-3e41-4f3c-aa29-e0d952e47675",
        "part": "whole"
       },
       "id": "4ddb144c-9bcb-4adc-8c26-9919d709194e"
      }
     }
    },
    "74064f6a-d94f-47aa-835f-738ecb873af8": {
     "id": "74064f6a-d94f-47aa-835f-738ecb873af8",
     "prev": "a39957ad-b88c-481d-922e-7784e0ccb929",
     "regions": {
      "98f5af6f-04f4-4ff1-afba-0ddc9f0be98b": {
       "attrs": {
        "height": 0.8,
        "width": 0.8,
        "x": 0.1,
        "y": 0.1
       },
       "content": {
        "cell": "fa33d249-8cd2-45e4-9141-0e0252be38c6",
        "part": "whole"
       },
       "id": "98f5af6f-04f4-4ff1-afba-0ddc9f0be98b"
      }
     }
    },
    "897d2d49-2757-420a-a2d7-2254890fe62c": {
     "id": "897d2d49-2757-420a-a2d7-2254890fe62c",
     "prev": "8e4904d9-07da-43f7-999e-ff4d3705508e",
     "regions": {
      "4bebd586-3d5b-464f-97d8-a8a97f9722da": {
       "attrs": {
        "height": 0.8,
        "width": 0.8,
        "x": 0.1,
        "y": 0.1
       },
       "content": {
        "cell": "a24086cc-b67c-48b9-bf91-c0cd7e1afe9e",
        "part": "whole"
       },
       "id": "4bebd586-3d5b-464f-97d8-a8a97f9722da"
      }
     }
    },
    "8e4904d9-07da-43f7-999e-ff4d3705508e": {
     "id": "8e4904d9-07da-43f7-999e-ff4d3705508e",
     "prev": "528fcdac-c32c-4700-a10f-e1288842e43f",
     "regions": {
      "2e9bf210-c556-40cb-ba11-f9d9a90c7d81": {
       "attrs": {
        "height": 0.8,
        "width": 0.8,
        "x": 0.1,
        "y": 0.1
       },
       "content": {
        "cell": "f088f6e2-d750-4470-ad37-5f5656d3a01e",
        "part": "whole"
       },
       "id": "2e9bf210-c556-40cb-ba11-f9d9a90c7d81"
      }
     }
    },
    "9135a8bf-f9ff-47f8-a84e-54d744a0d600": {
     "id": "9135a8bf-f9ff-47f8-a84e-54d744a0d600",
     "prev": "300e87f1-c5fe-426e-b0ff-c3cef9117f76",
     "regions": {
      "9b15776c-b29b-4e3f-9339-106f642ab365": {
       "attrs": {
        "height": 0.8,
        "width": 0.8,
        "x": 0.1,
        "y": 0.1
       },
       "content": {
        "cell": "1e879024-7bce-422e-b800-2ef42f68c408",
        "part": "whole"
       },
       "id": "9b15776c-b29b-4e3f-9339-106f642ab365"
      }
     }
    },
    "a39957ad-b88c-481d-922e-7784e0ccb929": {
     "id": "a39957ad-b88c-481d-922e-7784e0ccb929",
     "prev": "9135a8bf-f9ff-47f8-a84e-54d744a0d600",
     "regions": {
      "07875236-99b5-443d-b6e9-0c48ff3d2f66": {
       "attrs": {
        "height": 0.8,
        "width": 0.8,
        "x": 0.1,
        "y": 0.1
       },
       "content": {
        "cell": "59ed3fea-2e73-4be5-8a67-c528f3b66152",
        "part": "whole"
       },
       "id": "07875236-99b5-443d-b6e9-0c48ff3d2f66"
      }
     }
    },
    "d97efc58-1e7e-4cfa-bce4-51d2aa18b350": {
     "id": "d97efc58-1e7e-4cfa-bce4-51d2aa18b350",
     "prev": null,
     "regions": {}
    }
   },
   "themes": {
    "default": "c8b655f6-dbc5-4006-8b15-3367caedbdc2",
    "theme": {
     "067fdcb5-9774-4485-b84b-6cdc847f5f3b": {
      "backgrounds": {
       "backgroundColor": {
        "background-color": "backgroundColor",
        "id": "backgroundColor"
       }
      },
      "id": "067fdcb5-9774-4485-b84b-6cdc847f5f3b",
      "palette": {
       "backgroundColor": {
        "id": "backgroundColor",
        "rgb": [
         43,
         43,
         43
        ]
       },
       "headingColor": {
        "id": "headingColor",
        "rgb": [
         238,
         238,
         238
        ]
       },
       "linkColor": {
        "id": "linkColor",
        "rgb": [
         19,
         218,
         236
        ]
       },
       "mainColor": {
        "id": "mainColor",
        "rgb": [
         238,
         238,
         238
        ]
       }
      },
      "rules": {
       "a": {
        "color": "linkColor"
       },
       "h1": {
        "color": "headingColor",
        "font-family": "Oswald",
        "font-size": 7
       },
       "h2": {
        "color": "headingColor",
        "font-family": "Oswald",
        "font-size": 5
       },
       "h3": {
        "color": "headingColor",
        "font-family": "Oswald",
        "font-size": 3.75
       },
       "h4": {
        "color": "headingColor",
        "font-family": "Oswald",
        "font-size": 3
       },
       "h5": {
        "color": "headingColor",
        "font-family": "Oswald"
       },
       "h6": {
        "color": "headingColor",
        "font-family": "Oswald"
       },
       "h7": {
        "color": "headingColor",
        "font-family": "Oswald"
       },
       "li": {
        "color": "mainColor",
        "font-family": "Lato",
        "font-size": 5
       },
       "p": {
        "color": "mainColor",
        "font-family": "Lato",
        "font-size": 5
       }
      },
      "text-base": {
       "color": "mainColor",
       "font-family": "Lato",
       "font-size": 5
      }
     },
     "25a37daf-d139-4e14-a107-5f09b9680f60": {
      "backgrounds": {
       "backgroundColor": {
        "background-color": "backgroundColor",
        "id": "backgroundColor"
       }
      },
      "id": "25a37daf-d139-4e14-a107-5f09b9680f60",
      "palette": {
       "backgroundColor": {
        "id": "backgroundColor",
        "rgb": [
         256,
         256,
         256
        ]
       },
       "headingColor": {
        "id": "headingColor",
        "rgb": [
         34,
         34,
         34
        ]
       },
       "linkColor": {
        "id": "linkColor",
        "rgb": [
         42,
         118,
         221
        ]
       },
       "mainColor": {
        "id": "mainColor",
        "rgb": [
         34,
         34,
         34
        ]
       }
      },
      "rules": {
       "a": {
        "color": "linkColor"
       },
       "h1": {
        "color": "headingColor",
        "font-family": "Source Sans Pro",
        "font-size": 5.25
       },
       "h2": {
        "color": "headingColor",
        "font-family": "Source Sans Pro",
        "font-size": 4
       },
       "h3": {
        "color": "headingColor",
        "font-family": "Source Sans Pro",
        "font-size": 3.5
       },
       "h4": {
        "color": "headingColor",
        "font-family": "Source Sans Pro",
        "font-size": 3
       },
       "h5": {
        "color": "headingColor",
        "font-family": "Source Sans Pro"
       },
       "h6": {
        "color": "headingColor",
        "font-family": "Source Sans Pro"
       },
       "h7": {
        "color": "headingColor",
        "font-family": "Source Sans Pro"
       },
       "li": {
        "color": "mainColor",
        "font-family": "Source Sans Pro",
        "font-size": 6
       },
       "p": {
        "color": "mainColor",
        "font-family": "Source Sans Pro",
        "font-size": 6
       }
      },
      "text-base": {
       "color": "mainColor",
       "font-family": "Source Sans Pro",
       "font-size": 6
      }
     },
     "93bcaeed-4a84-4a20-8175-f0289954a32a": {
      "backgrounds": {
       "backgroundColor": {
        "background-color": "backgroundColor",
        "id": "backgroundColor"
       }
      },
      "id": "93bcaeed-4a84-4a20-8175-f0289954a32a",
      "palette": {
       "backgroundColor": {
        "id": "backgroundColor",
        "rgb": [
         256,
         256,
         256
        ]
       },
       "headingColor": {
        "id": "headingColor",
        "rgb": [
         34,
         34,
         34
        ]
       },
       "linkColor": {
        "id": "linkColor",
        "rgb": [
         42,
         118,
         221
        ]
       },
       "mainColor": {
        "id": "mainColor",
        "rgb": [
         34,
         34,
         34
        ]
       }
      },
      "rules": {
       "a": {
        "color": "linkColor"
       },
       "h1": {
        "color": "headingColor",
        "font-family": "Source Sans Pro",
        "font-size": 5.25
       },
       "h2": {
        "color": "headingColor",
        "font-family": "Source Sans Pro",
        "font-size": 4
       },
       "h3": {
        "color": "headingColor",
        "font-family": "Source Sans Pro",
        "font-size": 3.5
       },
       "h4": {
        "color": "headingColor",
        "font-family": "Source Sans Pro",
        "font-size": 3
       },
       "h5": {
        "color": "headingColor",
        "font-family": "Source Sans Pro"
       },
       "h6": {
        "color": "headingColor",
        "font-family": "Source Sans Pro"
       },
       "h7": {
        "color": "headingColor",
        "font-family": "Source Sans Pro"
       },
       "li": {
        "color": "mainColor",
        "font-family": "Source Sans Pro",
        "font-size": 6
       },
       "p": {
        "color": "mainColor",
        "font-family": "Source Sans Pro",
        "font-size": 6
       }
      },
      "text-base": {
       "color": "mainColor",
       "font-family": "Source Sans Pro",
       "font-size": 6
      }
     },
     "c8b655f6-dbc5-4006-8b15-3367caedbdc2": {
      "backgrounds": {
       "backgroundColor": {
        "background-color": "backgroundColor",
        "id": "backgroundColor"
       }
      },
      "id": "c8b655f6-dbc5-4006-8b15-3367caedbdc2",
      "palette": {
       "backgroundColor": {
        "id": "backgroundColor",
        "rgb": [
         256,
         256,
         256
        ]
       },
       "headingColor": {
        "id": "headingColor",
        "rgb": [
         34,
         34,
         34
        ]
       },
       "linkColor": {
        "id": "linkColor",
        "rgb": [
         42,
         118,
         221
        ]
       },
       "mainColor": {
        "id": "mainColor",
        "rgb": [
         34,
         34,
         34
        ]
       }
      },
      "rules": {
       "a": {
        "color": "linkColor"
       },
       "h1": {
        "color": "headingColor",
        "font-family": "Source Sans Pro",
        "font-size": 5.25
       },
       "h2": {
        "color": "headingColor",
        "font-family": "Source Sans Pro",
        "font-size": 4
       },
       "h3": {
        "color": "headingColor",
        "font-family": "Source Sans Pro",
        "font-size": 3.5
       },
       "h4": {
        "color": "headingColor",
        "font-family": "Source Sans Pro",
        "font-size": 3
       },
       "h5": {
        "color": "headingColor",
        "font-family": "Source Sans Pro"
       },
       "h6": {
        "color": "headingColor",
        "font-family": "Source Sans Pro"
       },
       "h7": {
        "color": "headingColor",
        "font-family": "Source Sans Pro"
       },
       "li": {
        "color": "mainColor",
        "font-family": "Source Sans Pro",
        "font-size": 6
       },
       "p": {
        "color": "mainColor",
        "font-family": "Source Sans Pro",
        "font-size": 6
       }
      },
      "text-base": {
       "color": "mainColor",
       "font-family": "Source Sans Pro",
       "font-size": 6
      }
     },
     "c8db6a8d-952c-44c0-a3ad-71a1a0e6b671": {
      "id": "c8db6a8d-952c-44c0-a3ad-71a1a0e6b671",
      "palette": {
       "19cc588f-0593-49c9-9f4b-e4d7cc113b1c": {
        "id": "19cc588f-0593-49c9-9f4b-e4d7cc113b1c",
        "rgb": [
         252,
         252,
         252
        ]
       },
       "31af15d2-7e15-44c5-ab5e-e04b16a89eff": {
        "id": "31af15d2-7e15-44c5-ab5e-e04b16a89eff",
        "rgb": [
         68,
         68,
         68
        ]
       },
       "50f92c45-a630-455b-aec3-788680ec7410": {
        "id": "50f92c45-a630-455b-aec3-788680ec7410",
        "rgb": [
         155,
         177,
         192
        ]
       },
       "c5cc3653-2ee1-402a-aba2-7caae1da4f6c": {
        "id": "c5cc3653-2ee1-402a-aba2-7caae1da4f6c",
        "rgb": [
         43,
         126,
         184
        ]
       },
       "efa7f048-9acb-414c-8b04-a26811511a21": {
        "id": "efa7f048-9acb-414c-8b04-a26811511a21",
        "rgb": [
         25.118061674008803,
         73.60176211453744,
         107.4819383259912
        ]
       }
      },
      "rules": {
       "blockquote": {
        "color": "50f92c45-a630-455b-aec3-788680ec7410"
       },
       "code": {
        "font-family": "Anonymous Pro"
       },
       "h1": {
        "color": "c5cc3653-2ee1-402a-aba2-7caae1da4f6c",
        "font-family": "Lato",
        "font-size": 8
       },
       "h2": {
        "color": "c5cc3653-2ee1-402a-aba2-7caae1da4f6c",
        "font-family": "Lato",
        "font-size": 6
       },
       "h3": {
        "color": "50f92c45-a630-455b-aec3-788680ec7410",
        "font-family": "Lato",
        "font-size": 5.5
       },
       "h4": {
        "color": "c5cc3653-2ee1-402a-aba2-7caae1da4f6c",
        "font-family": "Lato",
        "font-size": 5
       },
       "h5": {
        "font-family": "Lato"
       },
       "h6": {
        "font-family": "Lato"
       },
       "h7": {
        "font-family": "Lato"
       },
       "pre": {
        "font-family": "Anonymous Pro",
        "font-size": 4
       }
      },
      "text-base": {
       "font-family": "Merriweather",
       "font-size": 4
      }
     },
     "d723a901-fc88-453f-9770-80086cbc0c03": {
      "backgrounds": {
       "dc7afa04-bf90-40b1-82a5-726e3cff5267": {
        "background-color": "31af15d2-7e15-44c5-ab5e-e04b16a89eff",
        "id": "dc7afa04-bf90-40b1-82a5-726e3cff5267"
       }
      },
      "id": "d723a901-fc88-453f-9770-80086cbc0c03",
      "palette": {
       "19cc588f-0593-49c9-9f4b-e4d7cc113b1c": {
        "id": "19cc588f-0593-49c9-9f4b-e4d7cc113b1c",
        "rgb": [
         252,
         252,
         252
        ]
       },
       "31af15d2-7e15-44c5-ab5e-e04b16a89eff": {
        "id": "31af15d2-7e15-44c5-ab5e-e04b16a89eff",
        "rgb": [
         68,
         68,
         68
        ]
       },
       "50f92c45-a630-455b-aec3-788680ec7410": {
        "id": "50f92c45-a630-455b-aec3-788680ec7410",
        "rgb": [
         197,
         226,
         245
        ]
       },
       "c5cc3653-2ee1-402a-aba2-7caae1da4f6c": {
        "id": "c5cc3653-2ee1-402a-aba2-7caae1da4f6c",
        "rgb": [
         43,
         126,
         184
        ]
       },
       "efa7f048-9acb-414c-8b04-a26811511a21": {
        "id": "efa7f048-9acb-414c-8b04-a26811511a21",
        "rgb": [
         25.118061674008803,
         73.60176211453744,
         107.4819383259912
        ]
       }
      },
      "rules": {
       "a": {
        "color": "19cc588f-0593-49c9-9f4b-e4d7cc113b1c"
       },
       "blockquote": {
        "color": "50f92c45-a630-455b-aec3-788680ec7410",
        "font-size": 3
       },
       "code": {
        "font-family": "Anonymous Pro"
       },
       "h1": {
        "color": "19cc588f-0593-49c9-9f4b-e4d7cc113b1c",
        "font-family": "Merriweather",
        "font-size": 8
       },
       "h2": {
        "color": "19cc588f-0593-49c9-9f4b-e4d7cc113b1c",
        "font-family": "Merriweather",
        "font-size": 6
       },
       "h3": {
        "color": "50f92c45-a630-455b-aec3-788680ec7410",
        "font-family": "Lato",
        "font-size": 5.5
       },
       "h4": {
        "color": "c5cc3653-2ee1-402a-aba2-7caae1da4f6c",
        "font-family": "Lato",
        "font-size": 5
       },
       "h5": {
        "font-family": "Lato"
       },
       "h6": {
        "font-family": "Lato"
       },
       "h7": {
        "font-family": "Lato"
       },
       "li": {
        "color": "50f92c45-a630-455b-aec3-788680ec7410",
        "font-size": 3.25
       },
       "pre": {
        "font-family": "Anonymous Pro",
        "font-size": 4
       }
      },
      "text-base": {
       "color": "19cc588f-0593-49c9-9f4b-e4d7cc113b1c",
       "font-family": "Lato",
       "font-size": 4
      }
     }
    }
   }
  }
 },
 "nbformat": 4,
 "nbformat_minor": 2
}
