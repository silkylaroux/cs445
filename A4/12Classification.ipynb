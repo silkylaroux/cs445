{
 "cells": [
  {
   "cell_type": "markdown",
   "metadata": {},
   "source": [
    "$$\\newcommand{\\xv}{\\mathbf{x}}\n",
    "\\newcommand{\\Xv}{\\mathbf{X}}\n",
    "\\newcommand{\\yv}{\\mathbf{y}}\n",
    "\\newcommand{\\Yv}{\\mathbf{Y}}\n",
    "\\newcommand{\\zv}{\\mathbf{z}}\n",
    "\\newcommand{\\av}{\\mathbf{a}}\n",
    "\\newcommand{\\Wv}{\\mathbf{W}}\n",
    "\\newcommand{\\wv}{\\mathbf{w}}\n",
    "\\newcommand{\\gv}{\\mathbf{g}}\n",
    "\\newcommand{\\Hv}{\\mathbf{H}}\n",
    "\\newcommand{\\dv}{\\mathbf{d}}\n",
    "\\newcommand{\\Vv}{\\mathbf{V}}\n",
    "\\newcommand{\\vv}{\\mathbf{v}}\n",
    "\\newcommand{\\tv}{\\mathbf{t}}\n",
    "\\newcommand{\\Tv}{\\mathbf{T}}\n",
    "\\newcommand{\\Sv}{\\mathbf{S}}\n",
    "\\newcommand{\\zv}{\\mathbf{z}}\n",
    "\\newcommand{\\Zv}{\\mathbf{Z}}\n",
    "\\newcommand{\\Norm}{\\mathcal{N}}\n",
    "\\newcommand{\\muv}{\\boldsymbol{\\mu}}\n",
    "\\newcommand{\\sigmav}{\\boldsymbol{\\sigma}}\n",
    "\\newcommand{\\phiv}{\\boldsymbol{\\phi}}\n",
    "\\newcommand{\\Phiv}{\\boldsymbol{\\Phi}}\n",
    "\\newcommand{\\Sigmav}{\\boldsymbol{\\Sigma}}\n",
    "\\newcommand{\\Lambdav}{\\boldsymbol{\\Lambda}}\n",
    "\\newcommand{\\half}{\\frac{1}{2}}\n",
    "\\newcommand{\\argmax}[1]{\\underset{#1}{\\operatorname{argmax}}}\n",
    "\\newcommand{\\argmin}[1]{\\underset{#1}{\\operatorname{argmin}}}\n",
    "\\newcommand{\\dimensionbar}[1]{\\underset{#1}{\\operatorname{|}}}$$"
   ]
  },
  {
   "cell_type": "markdown",
   "metadata": {},
   "source": [
    "# Introduction to Classification"
   ]
  },
  {
   "cell_type": "markdown",
   "metadata": {},
   "source": [
    "## Classification with Linear Least Squares"
   ]
  },
  {
   "cell_type": "markdown",
   "metadata": {},
   "source": [
    "To classify a sample as being a member of 1 of 3 different classes, we could use integers 1, 2, and 3 as target outputs.\n",
    "\n",
    "<img src=\"http://www.cs.colostate.edu/~anderson/cs445/notebooks/integerclass.png\" width=500>\n"
   ]
  },
  {
   "cell_type": "markdown",
   "metadata": {},
   "source": [
    "Linear function of $x$ seems to match data fairly well. Why is this not a good idea?\n",
    "\n",
    "We must convert the continuous y-axis value to discrete integers 1, 2, or 3.  Without adding more parameters, we are\n",
    "forced to use the general solution of splitting at 1.5 and 2.5.\n",
    "\n",
    "<img src=\"http://www.cs.colostate.edu/~anderson/cs445/notebooks/integerclassboundaries.png\" width=500>\n",
    "\n",
    "Rats!  Boundaries are not where we want them."
   ]
  },
  {
   "cell_type": "markdown",
   "metadata": {},
   "source": [
    "## Indicator Variables"
   ]
  },
  {
   "cell_type": "markdown",
   "metadata": {},
   "source": [
    "To allow flexibility, we need to decouple the modeling of the\n",
    "boundaries.  Problem is due to using one value to represent all classes.\n",
    "Instead, let's use three values, one for each class.\n",
    "Binary-valued variables are adequate.  Class 1 = $(1,0,0)$, Class\n",
    "2 = $(0,1,0)$ and Class 3 = $(0,0,1)$.  These are called **indicator\n",
    "variables**. \n",
    "\n",
    "Our linear model has three\n",
    "outputs now.  How do we interpret the output for a new sample?\n",
    "\n",
    "Let the output be $\\yv = (y_1, y_2, y_3)$.  Convert these\n",
    "values to a class by picking the maximum value.\n",
    "\n",
    "$$\n",
    "\\begin{align*}\n",
    "\\text{class} = \\argmax{i}\\;\\; y_i\n",
    "\\end{align*}\n",
    "$$\n",
    "\n",
    "We can plot the three output components on three separate\n",
    "graphs. What linear functions will each one learn?\n",
    "\n",
    "<img src=\"http://www.cs.colostate.edu/~anderson/cs445/notebooks/indicatorvars.png\" width=1000>\n",
    "\n",
    "Overlay them to see which one is the maximum for each $x$ value.\n",
    "\n",
    "<img src=\"http://www.cs.colostate.edu/~anderson/cs445/notebooks/indicatorvarsmax.png\" width=400>\n",
    "\n",
    "See any potential problems?\n",
    "\n",
    "What if the green line is too low?\n",
    "\n",
    "<img src=\"http://www.cs.colostate.edu/~anderson/cs445/notebooks/indicatorvarsmax2.png\" width=400>\n",
    "\n",
    "What could cause this?\n"
   ]
  },
  {
   "cell_type": "markdown",
   "metadata": {},
   "source": [
    "## Masking Problem"
   ]
  },
  {
   "cell_type": "markdown",
   "metadata": {},
   "source": [
    "Too few samples from Class 2.\n",
    "\n",
    "<img src=\"http://www.cs.colostate.edu/~anderson/cs445/notebooks/indicatorvars3.png\" width=1000>\n",
    "\n",
    "There may be no values of $x$ for which the second output, $y_2$, of our\n",
    "linear model is larger than the other two.  Class 2 has become\n",
    "**masked** by the other classes.\n",
    "\n",
    "What other shape of function response would work better for this\n",
    "data?  Hold that thought, while we try an example."
   ]
  },
  {
   "cell_type": "markdown",
   "metadata": {},
   "source": [
    "## Example"
   ]
  },
  {
   "cell_type": "markdown",
   "metadata": {},
   "source": [
    "Let's use the [parkinsons data set](https://archive.ics.uci.edu/ml/datasets/Parkinsons) from UCI ML Archive.\n",
    "\n",
    "   * 147 samples from subjects with Parkinsons, 48 samples from healthy subjects\n",
    "   * Each sample composed of 22 numerical features extracted from voice recordings\n",
    "   * Feature named *status* is 0 for healthy subjects, 1 for subjects with Parkinson's Disease\n",
    "   * from collaboration with the University of Oxford and the National Center for Voice and Speech in Denver.\n",
    "\n",
    "Let's download the data file and read it in.  Also print the shapes of\n",
    "X and T and summarize the X and T data."
   ]
  },
  {
   "cell_type": "code",
   "execution_count": 1,
   "metadata": {
    "collapsed": true
   },
   "outputs": [],
   "source": [
    "import numpy as np\n",
    "import pandas as pd\n",
    "import matplotlib.pyplot as plt\n",
    "%matplotlib inline"
   ]
  },
  {
   "cell_type": "code",
   "execution_count": 2,
   "metadata": {
    "collapsed": true
   },
   "outputs": [],
   "source": [
    "import pandas as pd\n",
    "data = pd.read_csv('parkinsons.data')"
   ]
  },
  {
   "cell_type": "code",
   "execution_count": 3,
   "metadata": {
    "collapsed": false
   },
   "outputs": [
    {
     "data": {
      "text/plain": [
       "(195, 24)"
      ]
     },
     "execution_count": 3,
     "metadata": {},
     "output_type": "execute_result"
    }
   ],
   "source": [
    "data.shape"
   ]
  },
  {
   "cell_type": "code",
   "execution_count": 4,
   "metadata": {
    "collapsed": false
   },
   "outputs": [
    {
     "data": {
      "text/plain": [
       "Index(['name', 'MDVP:Fo(Hz)', 'MDVP:Fhi(Hz)', 'MDVP:Flo(Hz)', 'MDVP:Jitter(%)',\n",
       "       'MDVP:Jitter(Abs)', 'MDVP:RAP', 'MDVP:PPQ', 'Jitter:DDP',\n",
       "       'MDVP:Shimmer', 'MDVP:Shimmer(dB)', 'Shimmer:APQ3', 'Shimmer:APQ5',\n",
       "       'MDVP:APQ', 'Shimmer:DDA', 'NHR', 'HNR', 'status', 'RPDE', 'DFA',\n",
       "       'spread1', 'spread2', 'D2', 'PPE'],\n",
       "      dtype='object')"
      ]
     },
     "execution_count": 4,
     "metadata": {},
     "output_type": "execute_result"
    }
   ],
   "source": [
    "data.columns"
   ]
  },
  {
   "cell_type": "code",
   "execution_count": 5,
   "metadata": {
    "collapsed": false
   },
   "outputs": [
    {
     "data": {
      "text/plain": [
       "(195, 1)"
      ]
     },
     "execution_count": 5,
     "metadata": {},
     "output_type": "execute_result"
    }
   ],
   "source": [
    "T = data['status'].values\n",
    "T = T.reshape((-1, 1))\n",
    "Tname = 'status'\n",
    "T.shape"
   ]
  },
  {
   "cell_type": "code",
   "execution_count": 6,
   "metadata": {
    "collapsed": false
   },
   "outputs": [
    {
     "data": {
      "text/plain": [
       "((195, 22),\n",
       " ['MDVP:Fo(Hz)',\n",
       "  'MDVP:Fhi(Hz)',\n",
       "  'MDVP:Flo(Hz)',\n",
       "  'MDVP:Jitter(%)',\n",
       "  'MDVP:Jitter(Abs)',\n",
       "  'MDVP:RAP',\n",
       "  'MDVP:PPQ',\n",
       "  'Jitter:DDP',\n",
       "  'MDVP:Shimmer',\n",
       "  'MDVP:Shimmer(dB)',\n",
       "  'Shimmer:APQ3',\n",
       "  'Shimmer:APQ5',\n",
       "  'MDVP:APQ',\n",
       "  'Shimmer:DDA',\n",
       "  'NHR',\n",
       "  'HNR',\n",
       "  'RPDE',\n",
       "  'DFA',\n",
       "  'spread1',\n",
       "  'spread2',\n",
       "  'D2',\n",
       "  'PPE'])"
      ]
     },
     "execution_count": 6,
     "metadata": {},
     "output_type": "execute_result"
    }
   ],
   "source": [
    "X = data\n",
    "X = X.drop(['status', 'name'], axis=1)\n",
    "Xnames = X.columns.tolist()\n",
    "X = X.values\n",
    "X.shape, Xnames"
   ]
  },
  {
   "cell_type": "code",
   "execution_count": 7,
   "metadata": {
    "collapsed": false
   },
   "outputs": [
    {
     "name": "stdout",
     "output_type": "stream",
     "text": [
      "                     mean      stdev    \n",
      "MDVP:Fo(Hz)                154      41.3\n",
      "MDVP:Fhi(Hz)               197      91.3\n",
      "MDVP:Flo(Hz)               116      43.4\n",
      "MDVP:Jitter(%)         0.00622   0.00484\n",
      "MDVP:Jitter(Abs)       4.4e-05  3.47e-05\n",
      "MDVP:RAP               0.00331   0.00296\n",
      "MDVP:PPQ               0.00345   0.00275\n",
      "Jitter:DDP             0.00992   0.00888\n",
      "MDVP:Shimmer            0.0297    0.0188\n",
      "MDVP:Shimmer(dB)         0.282     0.194\n",
      "Shimmer:APQ3            0.0157    0.0101\n",
      "Shimmer:APQ5            0.0179     0.012\n",
      "MDVP:APQ                0.0241    0.0169\n",
      "Shimmer:DDA              0.047    0.0304\n",
      "NHR                     0.0248    0.0403\n",
      "HNR                       21.9      4.41\n",
      "RPDE                     0.499     0.104\n",
      "DFA                      0.718    0.0552\n",
      "spread1                  -5.68      1.09\n",
      "spread2                  0.227    0.0832\n",
      "D2                        2.38     0.382\n",
      "PPE                      0.207    0.0899\n"
     ]
    }
   ],
   "source": [
    "print('{:20s} {:9s} {:9s}'.format(' ','mean','stdev'))\n",
    "for i in range(X.shape[1]):\n",
    "    print('{:20s} {:9.3g} {:9.3g}'.format(Xnames[i], np.mean(X[:,i]), np.std(X[:,i])))\n"
   ]
  },
  {
   "cell_type": "code",
   "execution_count": 8,
   "metadata": {
    "collapsed": false
   },
   "outputs": [
    {
     "name": "stdout",
     "output_type": "stream",
     "text": [
      "   Value  Occurrences\n",
      "      0         48\n",
      "      1        147\n"
     ]
    }
   ],
   "source": [
    "uniq = np.unique(T)\n",
    "print('   Value  Occurrences')\n",
    "for i in uniq:\n",
    "    print('{:7.1g} {:10d}'.format(i, np.sum(T==i)))"
   ]
  },
  {
   "cell_type": "markdown",
   "metadata": {},
   "source": [
    "Two indicator variables is equivalent to using single variable, so we\n",
    "will stick with *status* as our output variable, with value of 0\n",
    "meaning healthy and 1 meaning Parkinsons."
   ]
  },
  {
   "cell_type": "markdown",
   "metadata": {},
   "source": [
    "For small sample size or very uneven number of samples from\n",
    "each class, force equal sampling proportions of two classes\n",
    "when building train, test partitions.  Let's use 80% for training and\n",
    "20% for testing."
   ]
  },
  {
   "cell_type": "code",
   "execution_count": 9,
   "metadata": {
    "collapsed": false
   },
   "outputs": [
    {
     "name": "stdout",
     "output_type": "stream",
     "text": [
      "Xtrain is 156 by 22. Ttrain is 156 by 1\n",
      "   Value  Occurrences\n",
      "      0         38\n",
      "      1        118\n",
      "Xtest is 39 by 22. Ttest is 39 by 1\n",
      "   Value  Occurrences\n",
      "      0         10\n",
      "      1         29\n"
     ]
    }
   ],
   "source": [
    "trainf = 0.8\n",
    "healthyI,_ = np.where(T == 0)\n",
    "parkI,_ = np.where(T == 1)\n",
    "healthyI = np.random.permutation(healthyI)\n",
    "parkI = np.random.permutation(parkI)\n",
    "\n",
    "nHealthy = round(trainf * len(healthyI))\n",
    "nPark = round(trainf * len(parkI))\n",
    "rowsTrain = np.hstack((healthyI[:nHealthy], parkI[:nPark]))\n",
    "Xtrain = X[rowsTrain,:]\n",
    "Ttrain = T[rowsTrain,:]\n",
    "rowsTest = np.hstack((healthyI[nHealthy:], parkI[nPark:]))\n",
    "Xtest =  X[rowsTest,:]\n",
    "Ttest =  T[rowsTest,:]\n",
    "\n",
    "print\n",
    "print('Xtrain is {:d} by {:d}. Ttrain is {:d} by {:d}'.format(*(Xtrain.shape + Ttrain.shape)))\n",
    "uniq = np.unique(Ttrain)\n",
    "print('   Value  Occurrences')\n",
    "for i in uniq:\n",
    "    print('{:7.1g} {:10d}'.format(i, np.sum(Ttrain==i)))\n",
    "\n",
    "    \n",
    "print('Xtest is {:d} by {:d}. Ttest is {:d} by {:d}'.format(*(Xtest.shape + Ttest.shape)))\n",
    "uniq = np.unique(Ttest)\n",
    "print('   Value  Occurrences')\n",
    "for i in uniq:\n",
    "    print('{:7.1g} {:10d}'.format(i, np.sum(Ttest==i)))\n"
   ]
  },
  {
   "cell_type": "markdown",
   "metadata": {},
   "source": [
    "That's about the same ratio of 0's and 1's."
   ]
  },
  {
   "cell_type": "code",
   "execution_count": 10,
   "metadata": {
    "collapsed": false
   },
   "outputs": [
    {
     "data": {
      "text/plain": [
       "(0.3220338983050847, 0.3448275862068966)"
      ]
     },
     "execution_count": 10,
     "metadata": {},
     "output_type": "execute_result"
    }
   ],
   "source": [
    "38/118, 10/29"
   ]
  },
  {
   "cell_type": "markdown",
   "metadata": {},
   "source": [
    "and in the original data set we had"
   ]
  },
  {
   "cell_type": "code",
   "execution_count": 11,
   "metadata": {
    "collapsed": false
   },
   "outputs": [
    {
     "data": {
      "text/plain": [
       "0.32653061224489793"
      ]
     },
     "execution_count": 11,
     "metadata": {},
     "output_type": "execute_result"
    }
   ],
   "source": [
    "48/147"
   ]
  },
  {
   "cell_type": "markdown",
   "metadata": {},
   "source": [
    "## Least Squares Solution"
   ]
  },
  {
   "cell_type": "markdown",
   "metadata": {},
   "source": [
    "First let's standardize the inputs.  Don't standardize the outputs.\n",
    "They indicate the class.  Then just calculate the linear least squares\n",
    "solution."
   ]
  },
  {
   "cell_type": "code",
   "execution_count": 12,
   "metadata": {
    "collapsed": true
   },
   "outputs": [],
   "source": [
    "def train(X, T, lamb=0):\n",
    "    means = X.mean(0)\n",
    "    stds = X.std(0)\n",
    "    n,d = X.shape\n",
    "    Xs = (X - means) / stds\n",
    "    Xs1 = np.insert(Xs , 0, 1, axis=1)\n",
    "    lambDiag = np.eye(d+1) * lamb\n",
    "    lambDiag[0, 0] = 0\n",
    "    w = np.linalg.lstsq( Xs1.T @ Xs1 + lambDiag, Xs1.T @ T)[0]\n",
    "    return {'w': w, 'means':means, 'stds':stds}\n",
    "\n",
    "def use(model, X):\n",
    "    Xs = (X - model['means']) / model['stds']\n",
    "    Xs1 = np.insert(Xs , 0, 1, axis=1)\n",
    "    return Xs1 @ model['w']"
   ]
  },
  {
   "cell_type": "code",
   "execution_count": 13,
   "metadata": {
    "collapsed": false
   },
   "outputs": [
    {
     "name": "stdout",
     "output_type": "stream",
     "text": [
      " 0                 bias      0.756\n",
      " 1          MDVP:Fo(Hz)     -0.123\n",
      " 2         MDVP:Fhi(Hz)    -0.0322\n",
      " 3         MDVP:Flo(Hz)    -0.0638\n",
      " 4       MDVP:Jitter(%)      -1.08\n",
      " 5     MDVP:Jitter(Abs)     -0.152\n",
      " 6             MDVP:RAP       12.9\n",
      " 7             MDVP:PPQ     0.0291\n",
      " 8           Jitter:DDP      -11.7\n",
      " 9         MDVP:Shimmer      0.569\n",
      "10     MDVP:Shimmer(dB)     0.0141\n",
      "11         Shimmer:APQ3       9.36\n",
      "12         Shimmer:APQ5     -0.344\n",
      "13             MDVP:APQ     -0.025\n",
      "14          Shimmer:DDA      -9.53\n",
      "15                  NHR     -0.113\n",
      "16                  HNR    -0.0521\n",
      "17                 RPDE     -0.109\n",
      "18                  DFA    -0.0224\n",
      "19              spread1      0.111\n",
      "20              spread2      0.126\n",
      "21                   D2    0.00733\n",
      "22                  PPE      0.148\n"
     ]
    },
    {
     "name": "stderr",
     "output_type": "stream",
     "text": [
      "/s/parsons/e/fac/anderson/anaconda3/lib/python3.6/site-packages/ipykernel_launcher.py:9: FutureWarning: `rcond` parameter will change to the default of machine precision times ``max(M, N)`` where M and N are the input matrix dimensions.\n",
      "To use the future default and silence this warning we advise to pass `rcond=None`, to keep using the old, explicitly pass `rcond=-1`.\n",
      "  if __name__ == '__main__':\n"
     ]
    }
   ],
   "source": [
    "model = train(Xtrain, Ttrain)\n",
    "\n",
    "Xnames.insert(0,'bias')\n",
    "for i in range(len(Xnames)):\n",
    "    print('{:2d} {:>20s} {:10.3g}'.format(i, Xnames[i], model['w'][i][0]))\n"
   ]
  },
  {
   "cell_type": "markdown",
   "metadata": {},
   "source": [
    "Which ones appear to be most important?\n",
    "\n",
    "And, of course, let's test our linear model. To compare to the target values of 0 and 1, we must convert the continuous output value to 0 or 1, whichever is closest."
   ]
  },
  {
   "cell_type": "code",
   "execution_count": 14,
   "metadata": {
    "collapsed": true
   },
   "outputs": [],
   "source": [
    "def convertTo01(Y):\n",
    "    distFromTarget = np.abs(Y - [0,1])\n",
    "    whichTargetClosest = np.argmin(distFromTarget, axis=1).reshape((-1, 1))\n",
    "    return whichTargetClosest  # column index equivalent to 0 and 1 targets"
   ]
  },
  {
   "cell_type": "code",
   "execution_count": 15,
   "metadata": {
    "collapsed": false
   },
   "outputs": [
    {
     "data": {
      "text/plain": [
       "array([[0],\n",
       "       [1],\n",
       "       [0],\n",
       "       [1]])"
      ]
     },
     "execution_count": 15,
     "metadata": {},
     "output_type": "execute_result"
    }
   ],
   "source": [
    "convertTo01(np.array([0.1, 1.1, -0.5, 0.56]).reshape((-1,1)))"
   ]
  },
  {
   "cell_type": "code",
   "execution_count": 16,
   "metadata": {
    "collapsed": false
   },
   "outputs": [
    {
     "name": "stdout",
     "output_type": "stream",
     "text": [
      "Percent Correct: Training   93.6 Testing   84.6\n"
     ]
    }
   ],
   "source": [
    "Ytrain = use(model, Xtrain)\n",
    "\n",
    "predictedTrain = convertTo01(Ytrain)\n",
    "\n",
    "percentCorrectTrain = np.sum(predictedTrain == Ttrain) / Ttrain.shape[0] * 100.0\n",
    "\n",
    "Ytest = use(model, Xtest)\n",
    "\n",
    "predictedTest = convertTo01(Ytest)\n",
    "percentCorrectTest = np.sum(predictedTest == Ttest) / float(Ttest.shape[0]) * 100.0\n",
    "\n",
    "print('Percent Correct: Training {:6.1f} Testing {:6.1f}'.format(percentCorrectTrain, percentCorrectTest))"
   ]
  },
  {
   "cell_type": "markdown",
   "metadata": {},
   "source": [
    "What visualization would you use to check the results?\n",
    "\n",
    "Let's plot the true class with the output of the model for\n",
    "each training sample, then each testing "
   ]
  },
  {
   "cell_type": "code",
   "execution_count": 17,
   "metadata": {
    "collapsed": false
   },
   "outputs": [
    {
     "data": {
      "image/png": "[encoded data removed]",
      "text/plain": [
       "<matplotlib.figure.Figure at 0x7fb968282240>"
      ]
     },
     "metadata": {},
     "output_type": "display_data"
    }
   ],
   "source": [
    "plt.figure(figsize=(8, 8))\n",
    "plt.subplot(2, 1 ,1)\n",
    "plt.plot(np.hstack((Ttrain, predictedTrain)), 'o-', alpha=0.5)\n",
    "plt.ylim(-0.1, 1.1) # so markers will show\n",
    "plt.xlabel('Sample Index')\n",
    "plt.ylabel('Class')\n",
    "plt.title('Training Data')\n",
    "plt.legend(('Actual', 'Predicted'), loc='center')\n",
    "\n",
    "plt.subplot(2, 1, 2)\n",
    "plt.plot(np.hstack((Ttest, predictedTest)), 'o-', alpha=0.5)\n",
    "plt.ylim(-0.1, 1.1)\n",
    "plt.xlabel('Sample Index')\n",
    "plt.ylabel('Class')\n",
    "plt.title('Testing Data')\n",
    "plt.legend(('Actual', 'Predicted'), loc='center');\n",
    "\n",
    "plt.tight_layout()"
   ]
  },
  {
   "cell_type": "markdown",
   "metadata": {},
   "source": [
    "Might also be revealing to add the continuously-valued output of the\n",
    "network, before being converted to the class."
   ]
  },
  {
   "cell_type": "code",
   "execution_count": 18,
   "metadata": {
    "collapsed": false
   },
   "outputs": [
    {
     "data": {
      "image/png": "[encoded data removed]",
      "text/plain": [
       "<matplotlib.figure.Figure at 0x7fb9682baeb8>"
      ]
     },
     "metadata": {},
     "output_type": "display_data"
    }
   ],
   "source": [
    "plt.figure(figsize=(8, 8))\n",
    "\n",
    "plt.subplot(2, 1, 1)\n",
    "plt.plot(np.hstack((Ttrain, predictedTrain, Ytrain)),'o-', alpha=0.5)\n",
    "plt.ylim(-0.1, 1.1) # so markers will show\n",
    "plt.xlabel('Sample Index')\n",
    "plt.ylabel('Class')\n",
    "plt.title('Training Data')\n",
    "plt.legend(('Actual', 'Predicted', 'Cont. Val.'), loc='center')\n",
    "\n",
    "plt.subplot(2, 1, 2)\n",
    "plt.plot(np.hstack((Ttest, predictedTest, Ytest)), 'o-', alpha=0.5)\n",
    "plt.ylim(-0.1, 1.1)\n",
    "plt.xlabel('Sample Index')\n",
    "plt.ylabel('Class')\n",
    "plt.title('Testing Data')\n",
    "plt.legend(('Actual', 'Predicted', 'Cont. Val.'), loc='center');\n"
   ]
  },
  {
   "cell_type": "markdown",
   "metadata": {},
   "source": [
    "## Shape of Boundary"
   ]
  },
  {
   "cell_type": "markdown",
   "metadata": {},
   "source": [
    "Imagine  we have just two variable attributes, $x_1$ and $x_2$.  With our\n",
    "linear least squared model $\\wv$, we make a prediction for\n",
    "sample $\\xv=(x_1,x_2)$ by\n",
    "\n",
    "$$\n",
    "y(\\xv) = w_0 + w_1 x_1 + w_2 x_2\n",
    "$$\n",
    "\n",
    "For the parkinsons problem, we will predict the class for this sample\n",
    "is 'healthy' if\n",
    "\n",
    "$$\n",
    "y(\\xv) = w_0 + w_1 x_1 + w_2 x_2 < 0.5\n",
    "$$\n",
    "\n",
    "So the boundary between the 'healthy' and the 'parkinsons' class in\n",
    "the two-dimensional $x_1, x_2$ space\n",
    "\n",
    "$$\n",
    "w_0 + w_1 x_1 + w_2 x_2 = 0.5\n",
    "$$\n",
    "\n",
    "is of what shape?\n",
    "\n",
    "Above methods are discriminative in nature, meaning that what is\n",
    "learned is a function that is designed to produce different values for\n",
    "different classes.  \n",
    "\n",
    "An alternative approach\n",
    "is to first create a probabilistic model of samples from each class,\n",
    "forming a model with which samples from a class can be generated,\n",
    "hence a **generative model**. The number of models is the same as the\n",
    "number of classes.\n",
    "\n",
    "Before jumping into the details of simple generative models, we will\n",
    "first review probability theory, joint probabilities, conditional\n",
    "probabilities, Bayes theorem, and the Gaussian distribution."
   ]
  },
  {
   "cell_type": "markdown",
   "metadata": {},
   "source": [
    "# Probability Theory"
   ]
  },
  {
   "cell_type": "markdown",
   "metadata": {},
   "source": [
    "## Boxes of Fruit"
   ]
  },
  {
   "cell_type": "markdown",
   "metadata": {},
   "source": [
    "<img src=\"http://www.cs.colostate.edu/~anderson/cs445/notebooks/fruitjars.png\">\n",
    "\n",
    "Counts of fruit in each jar:\n",
    "\n",
    "| | apples  |  oranges  |  strawberries  |\n",
    "| ---: | :---: | :---: | :---: | ---: |\n",
    "|  red jar |  2  |  6  |  4  | $\\Sigma$ = 12  |\n",
    "|  blue jar |  3  |  1  |  2  | $\\Sigma$ = 6  |\n",
    "\n",
    "Probabilities of fruit from a given jar:\n",
    "\n",
    "|  |  apples  |  oranges  |  strawberries  |\n",
    "| ---: | :---: | :---: | :---: | ---: |\n",
    "|  red jar |  2/12 = 0.167  |  6/12 = 0.5  |  4/12 = 0.33  | $\\Sigma$ = 1.0  |\n",
    "|  blue jar |  3/6 = 0.5  |  1/6 = 0.167  |  2/6 = 0.33  | $\\Sigma$ = 1.0  |\n",
    "\n",
    "Say the probability of choosing the red jar is 0.6 and for choosing\n",
    "the blue jar is 0.4. \n",
    "The probability of choosing the red jar and drawing an apple out\n",
    "of the red jar is the product of these two choices, or $0.6 (0.167) = 0.1$.\n",
    "\n",
    "Doing all multiplications results in\n",
    "\n",
    "|  |  apples  |  oranges  |  strawberries  |\n",
    "| ---: | :---: | :---: | :---: | ---: |\n",
    "|  red jar (P=0.6) |  0.6(0.167) = 0.1  |  0.6(0.5) = 0.3  |  0.6(0.33) = 0.2  | $\\Sigma$ = 0.5982  |\n",
    "|  blue jar (P=0.4) |  0.4(0.5) = 0.2  |  0.4(0.167) = 0.067  |  0.4(0.33) = 0.133  | $\\Sigma$ = 0.3988  |"
   ]
  },
  {
   "cell_type": "markdown",
   "metadata": {},
   "source": [
    "## Joint Probability Table "
   ]
  },
  {
   "cell_type": "markdown",
   "metadata": {},
   "source": [
    "Combine in a two-dimensional table to show joint\n",
    "probabilities of two events.\n",
    "\n",
    "|       |   |   | fruit  | | \n",
    "| :---: | :---: | :---: | :---: | :---: | ---: |\n",
    "|       |   |  apple  |  orange  |  strawberry  |\n",
    "|  jar  |  red  |  0.1  |  0.3  |  0.2  | $\\Sigma$ = 0.5982  |\n",
    "|    |  blue  |  0.2  |  0.067  |  0.133  | $\\Sigma$ = 0.3988  |\n",
    "|       |     | $\\Sigma$=0.3  |  $\\Sigma$ = 0.367  | $\\Sigma$ = 0.333 | $\\Sigma$=1  |\n",
    "\n",
    "Symbolically, let $J$ be a random variable for jar, and $F$  be a random variable for fruit:\n",
    "\n",
    "|       |   |  | fruit  | |\n",
    "| :---: | :---: | :---: | :---: | :---: | ---: |\n",
    "|       |   |  apple  |  orange  |  strawberry  |\n",
    "|  jar  |  red  |  P(J=red,F=apple)  |  P(J=red,F=orange)  |  P(J=red,F=strawberry)  |  P(J=red)  |\n",
    "|    |  blue  |  P(J=blue,F=apple)  |  P(J=blue,F=orange)  |  P(J=blue,F=strawberry)  |  P(J=blue)  |\n",
    "|       |     |  P(F=apple)  |  P(F=orange)  |  P(F=strawberry)  | 1  |\n"
   ]
  },
  {
   "cell_type": "markdown",
   "metadata": {},
   "source": [
    "## Bayes Rule"
   ]
  },
  {
   "cell_type": "markdown",
   "metadata": {},
   "source": [
    "Just saw  an example of the **product rule**:\n",
    "\n",
    "$$\n",
    "\\begin{align*}\n",
    " P(F=orange, J=blue) = P(F=orange | J=blue) P(J=blue)\n",
    "\\end{align*}\n",
    "$$\n",
    "\n",
    "Since\n",
    "\n",
    "$$\n",
    "\\begin{align*}\n",
    "P(F=orange, J=blue) = P(J=blue, F=orange)\n",
    "\\end{align*}\n",
    "$$\n",
    "\n",
    "and\n",
    "\n",
    "$$\n",
    "\\begin{align*}\n",
    "P(J=blue,F=orange) = P(J=blue|F=orange)P(F=orange)\n",
    "\\end{align*}\n",
    "$$\n",
    "\n",
    "we know\n",
    "\n",
    "$$\n",
    "\\begin{align*}\n",
    "P(J=blue|F=orange)& P(F=orange) =\\\\\n",
    "& P(F=orange | J=blue) P(J=blue)\n",
    "\\end{align*}\n",
    "$$\n",
    "\n",
    "Dividing both sides by $P(F=orange)$ leads to **Bayes Rule**:\n",
    "\n",
    "$$\n",
    "\\begin{align*}\n",
    "P(J=blue | F=orange) = \\frac{P(F=orange|J=blue)P(J=blue)}{P(F=orange)}\n",
    "\\end{align*}\n",
    "$$\n",
    "\n",
    "On the right hand side of Bayes Rule, all terms are given except\n",
    "$P(F=orange)$\n",
    "\n",
    "$$\n",
    "\\begin{align*}\n",
    "P(J=blue | F=orange) = \\frac{P(F=orange|J=blue)P(J=blue)}{P(F=orange)}\n",
    "\\end{align*}\n",
    "$$\n",
    "\n",
    "We can use the **sum rule** to get this\n",
    "\n",
    "$$\n",
    "\\begin{align*}\n",
    "P(F=orange) & = \\sum_{j\\in\\{red,blue\\}} P(F=orange,J=j) \\\\\n",
    "& = 0.3+0.067\\\\\n",
    "& = 0.367\n",
    "\\end{align*}\n",
    "$$\n",
    "\n",
    "So, Bayes Rule can be rewritten as\n",
    "\n",
    "$$\n",
    "\\begin{align*}\n",
    "P(J=blue|F=orange) = \n",
    "\\frac{P(F=orange|J=blue)P(J=blue)}{\\sum_j P(F=orange,J=j)}\n",
    "\\end{align*}\n",
    "$$\n",
    "\n",
    "or\n",
    "\n",
    "$$\n",
    "\\begin{align*}\n",
    "P(J=blue|F=orange) = \n",
    "\\frac{P(F=orange|J=blue)P(J=blue)}{\\sum_j P(F=orange|J=j)P(J=j)}\n",
    "\\end{align*}\n",
    "$$"
   ]
  },
  {
   "cell_type": "markdown",
   "metadata": {},
   "source": [
    "Now in Python. We can represent a conditional probability table as a two-dimensional array."
   ]
  },
  {
   "cell_type": "code",
   "execution_count": 19,
   "metadata": {
    "collapsed": false
   },
   "outputs": [
    {
     "data": {
      "text/plain": [
       "array([[2, 6, 4],\n",
       "       [3, 1, 2]])"
      ]
     },
     "execution_count": 19,
     "metadata": {},
     "output_type": "execute_result"
    }
   ],
   "source": [
    "counts = np.array([[2, 6, 4], [3, 1, 2]])\n",
    "counts"
   ]
  },
  {
   "cell_type": "markdown",
   "metadata": {},
   "source": [
    "Let's include the row and column names as lists, and write a function to print the table."
   ]
  },
  {
   "cell_type": "code",
   "execution_count": 20,
   "metadata": {
    "collapsed": true
   },
   "outputs": [],
   "source": [
    "jarNames = ['red', 'blue']\n",
    "fruitNames = ['apple', 'orange', 'strawberry']"
   ]
  },
  {
   "cell_type": "code",
   "execution_count": 21,
   "metadata": {
    "collapsed": false
   },
   "outputs": [
    {
     "name": "stdout",
     "output_type": "stream",
     "text": [
      "counts\n",
      "       apple  orange strawberry\n",
      "red        2       6       4      12\n",
      "blue       3       1       2       6\n",
      "           5       7       6      18\n"
     ]
    }
   ],
   "source": [
    "def printTable(label, data):\n",
    "    print\n",
    "    print(label)\n",
    "    print('   {:>9s} {:>7s} {:>9s}'.format(*fruitNames))\n",
    "    for i in [0, 1]:\n",
    "        d = data[i, :].tolist()\n",
    "        print('{:4s} {:7.3g} {:7.3g} {:7.3g} {:7.3g}'.format(*([jarNames[i]] + d + [sum(d)])))\n",
    "    colTotals = np.sum(data, axis=0).tolist()\n",
    "    print('     {:7.3g} {:7.3g} {:7.3g} {:7.3g}'.format(*(colTotals + [sum(colTotals)])))\n",
    "\n",
    "printTable('counts', counts)"
   ]
  },
  {
   "cell_type": "markdown",
   "metadata": {},
   "source": [
    "Calculate the sums of fruits in each jar by"
   ]
  },
  {
   "cell_type": "code",
   "execution_count": 22,
   "metadata": {
    "collapsed": false
   },
   "outputs": [
    {
     "data": {
      "text/plain": [
       "array([[12],\n",
       "       [ 6]])"
      ]
     },
     "execution_count": 22,
     "metadata": {},
     "output_type": "execute_result"
    }
   ],
   "source": [
    "jarSums = np.sum(counts, axis=1).reshape((2, 1))\n",
    "jarSums"
   ]
  },
  {
   "cell_type": "markdown",
   "metadata": {},
   "source": [
    "Now we can calculate the probability of drawing each type of fruit, given that we have already chosen a jar."
   ]
  },
  {
   "cell_type": "code",
   "execution_count": 23,
   "metadata": {
    "collapsed": false
   },
   "outputs": [
    {
     "name": "stdout",
     "output_type": "stream",
     "text": [
      "Prob(Fruit|Jar)\n",
      "       apple  orange strawberry\n",
      "red    0.167     0.5   0.333       1\n",
      "blue     0.5   0.167   0.333       1\n",
      "       0.667   0.667   0.667       2\n"
     ]
    }
   ],
   "source": [
    "pFruitGivenJar = counts / jarSums\n",
    "printTable('Prob(Fruit|Jar)', pFruitGivenJar)"
   ]
  },
  {
   "cell_type": "markdown",
   "metadata": {},
   "source": [
    "We can do more if we code the probability of selecting a jar."
   ]
  },
  {
   "cell_type": "code",
   "execution_count": 24,
   "metadata": {
    "collapsed": false
   },
   "outputs": [
    {
     "data": {
      "text/plain": [
       "array([[0.6],\n",
       "       [0.4]])"
      ]
     },
     "execution_count": 24,
     "metadata": {},
     "output_type": "execute_result"
    }
   ],
   "source": [
    "pJar = np.array([[0.6], [0.4]])\n",
    "pJar"
   ]
  },
  {
   "cell_type": "markdown",
   "metadata": {},
   "source": [
    "Now we can calculate the joint probabilities, or the probabilities of each pair of a jar and a fruit occurring."
   ]
  },
  {
   "cell_type": "code",
   "execution_count": 25,
   "metadata": {
    "collapsed": false
   },
   "outputs": [
    {
     "name": "stdout",
     "output_type": "stream",
     "text": [
      "Prob(Fruit,Jar)\n",
      "       apple  orange strawberry\n",
      "red      0.1     0.3     0.2     0.6\n",
      "blue     0.2  0.0667   0.133     0.4\n",
      "         0.3   0.367   0.333       1\n"
     ]
    }
   ],
   "source": [
    "pFruitAndJar = pFruitGivenJar * pJar\n",
    "printTable('Prob(Fruit,Jar)', pFruitAndJar)"
   ]
  },
  {
   "cell_type": "markdown",
   "metadata": {},
   "source": [
    "The sum at the lower right had better be 1, because this table is all possible results. \n",
    "\n",
    "How do we get the probability of a fruit from this table?  Just sum over the jars to marginalize out (remove) the jars."
   ]
  },
  {
   "cell_type": "code",
   "execution_count": 26,
   "metadata": {
    "collapsed": false
   },
   "outputs": [
    {
     "data": {
      "text/plain": [
       "array([0.3       , 0.36666667, 0.33333333])"
      ]
     },
     "execution_count": 26,
     "metadata": {},
     "output_type": "execute_result"
    }
   ],
   "source": [
    "pFruit = np.sum(pFruitAndJar, axis=0)\n",
    "pFruit"
   ]
  },
  {
   "cell_type": "markdown",
   "metadata": {},
   "source": [
    "Now the probability of a jar given that you know which fruit was drawn, is"
   ]
  },
  {
   "cell_type": "code",
   "execution_count": 27,
   "metadata": {
    "collapsed": false
   },
   "outputs": [
    {
     "name": "stdout",
     "output_type": "stream",
     "text": [
      "Prob(Jar|Fruit)\n",
      "       apple  orange strawberry\n",
      "red    0.333   0.818     0.6    1.75\n",
      "blue   0.667   0.182     0.4    1.25\n",
      "           1       1       1       3\n"
     ]
    }
   ],
   "source": [
    "pJarGivenFruit = pFruitAndJar / pFruit\n",
    "printTable('Prob(Jar|Fruit)', pJarGivenFruit)"
   ]
  },
  {
   "cell_type": "markdown",
   "metadata": {},
   "source": [
    "# Bayes Rule for Classification"
   ]
  },
  {
   "cell_type": "markdown",
   "metadata": {},
   "source": [
    "Replace jars with groups of hand-drawn digits. \n",
    "Replace fruits with  hand-drawn images.\n",
    "\n",
    "<img src=\"http://www.cs.colostate.edu/~anderson/cs445/notebooks/jarsofdigits.png\">\n",
    "\n",
    "\n",
    "\n",
    "Let $i$ be a particular image. To classify an image $i$ as a\n",
    "particular digit, such as 4, we want to know\n",
    "\n",
    "$$\n",
    "\\begin{align*}\n",
    "P(Digit = 4 \\;|\\; Image = i)\n",
    "\\end{align*}\n",
    "$$\n",
    "\n",
    "but we probably only know\n",
    "\n",
    "$$\n",
    "\\begin{align*}\n",
    "   P(Image = i \\;|\\; Digit = 4)\n",
    "\\end{align*}\n",
    "$$\n",
    "\n",
    "If we assume\n",
    "\n",
    "$$\n",
    "\\begin{align*}\n",
    "P(Image=i) = &\\frac{1}{\\mbox{number of images}}\\\\\n",
    "P(Digit=4)=&\\frac{1}{10}\n",
    "\\end{align*}\n",
    "$$\n",
    "\n",
    "then we can use Bayes rule:\n",
    "\n",
    "$$\n",
    "\\begin{align*}\n",
    "    P(Digit=4\\;|\\;Image=i) & = \\frac{P(Image=i\\;|\\;Digit=4)  P(Digit=4)}{P(Image=i)}\\\\\n",
    "&\\\\\n",
    "& = \\frac{P(Image=i\\;|\\;Digit=4) 0.1}{(1/\\mbox{number of images)}}\n",
    "\\end{align*}\n",
    "$$"
   ]
  },
  {
   "cell_type": "markdown",
   "metadata": {},
   "source": [
    "# Classification: Simple Generative Models"
   ]
  },
  {
   "cell_type": "markdown",
   "metadata": {},
   "source": [
    "Above we discussed a linear function as a discriminant\n",
    "function.  If we had three classes, we would have three\n",
    "discriminant functions, and their values would be compared to find the\n",
    "maximum value to make the class prediction.\n",
    "\n",
    "A different way to develop a similar comparison is to start with\n",
    "models of the data from each class.  If the models define a\n",
    "probability distribution over possible values, the models are\n",
    "**generative models**.  \n",
    "\n",
    "What shape model would you like? \n",
    "\n",
    "As discussed in earlier lectures, a Gaussian, or Normal distribution, is a nice choice.  Its integral sums to one, its value is always nonnegative, and the derivative of its natural logarithm is very nice.\n",
    "\n",
    "\n",
    "$$\n",
    "p(\\xv) = \\frac{1}{2\\pi^{d/2} |\\Sigmav |^{1/2}}\n",
    "      e^{-\\frac{1}{2} (\\xv-\\muv)^T \\Sigmav^{-1} (\\xv - \\muv)}\n",
    "$$\n",
    "\n",
    "where mean $\\muv$ is a $d$-dimensional column vector and covariance\n",
    "matrix $\\Sigmav$ is a $d\\times d$ symmetric matrix.\n"
   ]
  },
  {
   "cell_type": "markdown",
   "metadata": {},
   "source": [
    "Back to that Masking Problem.. What function shape were you thinking of that might fix the masking problem?\n",
    "\n",
    "Radial basis function?  Good choice!  But, remember what a\n",
    "radial basis function resembles?\n",
    "\n",
    "Right again!  A Normal distribution.\n",
    "\n",
    "So, let's say we come up with the generative distribution,\n",
    "such as a Normal distribution, for\n",
    "Class $k$, called $p(\\xv|Class=k)$, or $p(\\xv|C=k)$. How do we use\n",
    "it to classify?\n",
    "\n",
    "Can just take the distribution with the highest value,\n",
    "$\\argmax{k}\\; p(\\xv|C=k)$.  But we can do better than this...think\n",
    "Bayes' Rule.\n",
    "\n",
    "Ultimately we would like to know $p(C=k|\\xv)$.  How do we\n",
    "get this from $p(\\xv|C=k)$?\n",
    "\n",
    "Remember that\n",
    "\n",
    "$$\n",
    "    \\begin{align*}\n",
    "      p(C=k,\\xv) = p(C=k|\\xv)p(\\xv) = p(\\xv|C=k)p(C=k)\n",
    "   \\end{align*}\n",
    "$$\n",
    "\n",
    "so \n",
    "\n",
    "$$\n",
    "   \\begin{align*}\n",
    "      p(C=k|\\xv) &= \\frac{p(\\xv|C=k)p(C=k)}{p(\\xv)}\\\\ \\\\\n",
    " &= \\frac{p(\\xv|C=k)p(C=k)}{\\sum_{k=1}^K p(\\xv,C=k)}\\\\ \\\\\n",
    "&= \\frac{p(\\xv|C=k)p(C=k)}{\\sum_{k=1}^K p(\\xv|C=k)p(C=k)}\n",
    "      \\end{align*}\n",
    "$$\n",
    "\n",
    "For two classes, $k\\in \\{1,2\\}$.  We will classify a sample\n",
    "$\\xv$ as Class 2 if $p(C=2|\\xv) > p(C=1|\\xv)$.  Now expand and simplify...\n",
    "\n",
    "$$\n",
    "    \\begin{align*}\n",
    "      p(C=2|\\xv) &> p(C=1|\\xv)\\\\ \\\\\n",
    "      \\frac{p(\\xv|C=2)p(C=2)}{p(\\xv)}  &>\n",
    "      \\frac{p(\\xv|C=1)p(C=1)}{p(\\xv)} \\\\ \\\\\n",
    "      p(\\xv|C=2)p(C=2)  &>   p(\\xv|C=1)p(C=1) \n",
    "    \\end{align*}\n",
    "$$\n",
    "\n",
    "Using our assumption that the generative distribution for each\n",
    "class is a Normal distribution,\n",
    "\n",
    "$$\n",
    "    \\begin{align*}\n",
    "      p(\\xv|C=2) p(C=2)  &>   p(\\xv|C=1)p(C=1) \\\\  \\\\\n",
    "      \\frac{1}{(2\\pi)^{\\frac{d}{2}} |\\Sigma_2|^{\\frac{1}{2}}}\n",
    "       e^{-\\frac{1}{2}(\\xv-\\muv_2)^T \\Sigma_2^{-1} (\\xv-\\muv_2)} p(C=2)      \n",
    "& > \\frac{1}{(2\\pi)^{\\frac{d}{2}} |\\Sigma_1|^{\\frac{1}{2}}}\n",
    "      e^{-\\frac{1}{2}(\\xv-\\muv_1)^T \\Sigma_1^{-1} (\\xv-\\muv_1)} p(C=1)\n",
    "      \\\\ \\\\\n",
    "      |\\Sigma_2|^{-\\frac{1}{2}}\n",
    "       e^{-\\frac{1}{2}(\\xv-\\muv_2)^T \\Sigma_2^{-1} (\\xv-\\muv_2)} p(C=2) \n",
    "      & > |\\Sigma_1|^{-\\frac{1}{2}}\n",
    "      e^{-\\frac{1}{2}(\\xv-\\muv_1)^T \\Sigma_1^{-1} (\\xv-\\muv_1)} p(C=1) \\\\\n",
    "    \\end{align*}\n",
    "$$\n",
    "\n",
    "Hey, there are multiplications and exponentials here.  Let's\n",
    "use logarithms!\n",
    "\n",
    "$$\n",
    "    \\begin{align*}\n",
    "      |\\Sigma_2|^{-\\frac{1}{2}}\n",
    "       e^{-\\frac{1}{2}(\\xv-\\muv_2)^T \\Sigma_2^{-1} (\\xv-\\muv_2)} p(C=2) \n",
    "& > |\\Sigma_1|^{-\\frac{1}{2}}\n",
    "      e^{-\\frac{1}{2}(\\xv-\\muv_1)^T \\Sigma_1^{-1} (\\xv-\\muv_1)} p(C=1)\n",
    "      \\\\ \\\\\n",
    "      -\\frac{1}{2}  \\ln |\\Sigma_2| +\n",
    "       -\\frac{1}{2}(\\xv-\\muv_2)^T \\Sigma_2^{-1} (\\xv-\\muv_2) + \\ln p(C=2) \n",
    "      & > -\\frac{1}{2} \\ln |\\Sigma_1| +\n",
    "      -\\frac{1}{2}(\\xv-\\muv_1)^T \\Sigma_1^{-1} (\\xv-\\muv_1) + \\ln p(C=1) \n",
    "    \\end{align*}\n",
    "$$\n",
    "\n",
    "If we define each side of this last inequality as a discriminant function, $\\delta_k(\\xv)$ for\n",
    "Class $k$, then\n",
    "\n",
    "$$\n",
    "      \\begin{align*}\n",
    "        \\delta_k(\\xv) = -\\frac{1}{2} \\ln |\\Sigma_k| -\\frac{1}{2}(\\xv-\\muv_k)^T\n",
    "\\Sigma_k^{-1} (\\xv-\\muv_k) + \\ln P(C=k)\n",
    "      \\end{align*}\n",
    "$$\n",
    "\n",
    "and the class of a new sample $\\xv$ is $\\argmax{k}\\; \\delta_k(\\xv)$.\n",
    "\n",
    "The boundary between Class 1 and Class 2 is the set of points $\\xv$\n",
    "for which $\\delta_2(\\xv) = \\delta_1(\\xv)$. This equation\n",
    "is quadratic in $\\xv$, meaning that the boundary between Class 1 and 2\n",
    "is quadratic.  We have just defined **Quadratic Discriminant Analysis,\n",
    "or QDA**.  \n"
   ]
  },
  {
   "cell_type": "markdown",
   "metadata": {},
   "source": [
    "## QDA: Quadratic Discriminant Analysis"
   ]
  },
  {
   "cell_type": "markdown",
   "metadata": {},
   "source": [
    "Now, some Python fun with QDA.  First, let's make some data.  Let it be $D$ dimensional so we can vary\n",
    "the dimensionality of the data."
   ]
  },
  {
   "cell_type": "code",
   "execution_count": 28,
   "metadata": {
    "collapsed": false
   },
   "outputs": [
    {
     "data": {
      "text/plain": [
       "(20, 2)"
      ]
     },
     "execution_count": 28,
     "metadata": {},
     "output_type": "execute_result"
    }
   ],
   "source": [
    "D = 1  # number of components in each sample\n",
    "N = 10  # number of samples in each class\n",
    "X1 = np.random.normal(0.0, 1.0, (N, D))\n",
    "T1 = np.array([1]*N).reshape((N, 1))\n",
    "X2 = np.random.normal(4.0, 1.5, (N, D))  # wider variance\n",
    "T2 = np.array([2]*N).reshape((N, 1))\n",
    "\n",
    "data = np.hstack(( np.vstack((X1, X2)), np.vstack((T1, T2))))\n",
    "data.shape"
   ]
  },
  {
   "cell_type": "markdown",
   "metadata": {},
   "source": [
    "Now imagine we only have *data* and don't know how it was\n",
    "generated.  We don't know the mean and covariance of the two classes.\n",
    "Data looks like"
   ]
  },
  {
   "cell_type": "code",
   "execution_count": 29,
   "metadata": {
    "collapsed": false
   },
   "outputs": [
    {
     "data": {
      "text/plain": [
       "array([[ 0.46762146,  1.        ],\n",
       "       [-0.75135182,  1.        ],\n",
       "       [-1.22691388,  1.        ],\n",
       "       [ 0.26932615,  1.        ],\n",
       "       [-0.39466279,  1.        ],\n",
       "       [-0.94661163,  1.        ],\n",
       "       [ 1.15429744,  1.        ],\n",
       "       [ 1.16757566,  1.        ],\n",
       "       [-0.66446787,  1.        ],\n",
       "       [-0.37431034,  1.        ],\n",
       "       [ 6.85342722,  2.        ],\n",
       "       [ 4.3032426 ,  2.        ],\n",
       "       [ 3.66775465,  2.        ],\n",
       "       [ 3.92159183,  2.        ],\n",
       "       [ 4.13326616,  2.        ],\n",
       "       [ 1.59595734,  2.        ],\n",
       "       [ 0.70105146,  2.        ],\n",
       "       [ 3.66269991,  2.        ],\n",
       "       [ 6.1053374 ,  2.        ],\n",
       "       [ 2.66673881,  2.        ]])"
      ]
     },
     "execution_count": 29,
     "metadata": {},
     "output_type": "execute_result"
    }
   ],
   "source": [
    "data"
   ]
  },
  {
   "cell_type": "markdown",
   "metadata": {},
   "source": [
    "Start as before.  Separate into input columns and target column.  The\n",
    "target is now an integer representing the class.  And let's\n",
    "standardize the inputs."
   ]
  },
  {
   "cell_type": "code",
   "execution_count": 30,
   "metadata": {
    "collapsed": true
   },
   "outputs": [],
   "source": [
    "X = data[:, 0:D]\n",
    "T = data[:, -1:]\n",
    "means = np.mean(X, 0)\n",
    "stds = np.std(X, 0)\n",
    "Xs = (X - means) / stds"
   ]
  },
  {
   "cell_type": "code",
   "execution_count": 31,
   "metadata": {
    "collapsed": false
   },
   "outputs": [
    {
     "data": {
      "text/plain": [
       "(array([-3.88578059e-17]), array([1.]))"
      ]
     },
     "execution_count": 31,
     "metadata": {},
     "output_type": "execute_result"
    }
   ],
   "source": [
    "Xs.mean(0), Xs.std(0)"
   ]
  },
  {
   "cell_type": "markdown",
   "metadata": {},
   "source": [
    "Now we need a QDA discriminant function.  Here is the math again.\n",
    "\n",
    "$$\n",
    "      \\begin{align*}\n",
    "        \\delta_k(\\xv) = -\\frac{1}{2} \\ln |\\Sigma_k| -\\frac{1}{2}(\\xv-\\muv_k)^T\n",
    "\\Sigma_k^{-1} (\\xv-\\muv_k) + \\ln P(C=k)\n",
    "      \\end{align*}\n",
    "$$\n",
    "\n",
    "Let's consider ways to calculate that $\\Sigma_k^{-1}$."
   ]
  },
  {
   "cell_type": "code",
   "execution_count": 32,
   "metadata": {
    "collapsed": false
   },
   "outputs": [
    {
     "data": {
      "text/plain": [
       "array([[1., 0.],\n",
       "       [0., 1.]])"
      ]
     },
     "execution_count": 32,
     "metadata": {},
     "output_type": "execute_result"
    }
   ],
   "source": [
    "Sigma = np.array([[1, 2], [2, 1]])\n",
    "Sigma @ np.linalg.inv(Sigma)"
   ]
  },
  {
   "cell_type": "code",
   "execution_count": 33,
   "metadata": {
    "collapsed": false
   },
   "outputs": [
    {
     "data": {
      "text/plain": [
       "array([[ 1.0000000e+00, -4.4408921e-16],\n",
       "       [ 0.0000000e+00,  1.0000000e+00]])"
      ]
     },
     "execution_count": 33,
     "metadata": {},
     "output_type": "execute_result"
    }
   ],
   "source": [
    "Sigma @ np.linalg.pinv(Sigma)"
   ]
  },
  {
   "cell_type": "code",
   "execution_count": 34,
   "metadata": {
    "collapsed": false
   },
   "outputs": [
    {
     "data": {
      "text/plain": [
       "array([[1, 2],\n",
       "       [1, 2]])"
      ]
     },
     "execution_count": 34,
     "metadata": {},
     "output_type": "execute_result"
    }
   ],
   "source": [
    "Sigma = np.array([[1, 2], [1, 2]])\n",
    "Sigma"
   ]
  },
  {
   "cell_type": "code",
   "execution_count": 35,
   "metadata": {
    "collapsed": false
   },
   "outputs": [
    {
     "ename": "LinAlgError",
     "evalue": "Singular matrix",
     "output_type": "error",
     "traceback": [
      "\u001b[0;31m---------------------------------------------------------------------------\u001b[0m",
      "\u001b[0;31mLinAlgError\u001b[0m                               Traceback (most recent call last)",
      "\u001b[0;32m<ipython-input-35-67b6bced86d8>\u001b[0m in \u001b[0;36m<module>\u001b[0;34m()\u001b[0m\n\u001b[0;32m----> 1\u001b[0;31m \u001b[0mnp\u001b[0m\u001b[0;34m.\u001b[0m\u001b[0mlinalg\u001b[0m\u001b[0;34m.\u001b[0m\u001b[0minv\u001b[0m\u001b[0;34m(\u001b[0m\u001b[0mSigma\u001b[0m\u001b[0;34m)\u001b[0m\u001b[0;34m\u001b[0m\u001b[0m\n\u001b[0m",
      "\u001b[0;32m~/anaconda3/lib/python3.6/site-packages/numpy/linalg/linalg.py\u001b[0m in \u001b[0;36minv\u001b[0;34m(a)\u001b[0m\n\u001b[1;32m    526\u001b[0m     \u001b[0msignature\u001b[0m \u001b[0;34m=\u001b[0m \u001b[0;34m'D->D'\u001b[0m \u001b[0;32mif\u001b[0m \u001b[0misComplexType\u001b[0m\u001b[0;34m(\u001b[0m\u001b[0mt\u001b[0m\u001b[0;34m)\u001b[0m \u001b[0;32melse\u001b[0m \u001b[0;34m'd->d'\u001b[0m\u001b[0;34m\u001b[0m\u001b[0m\n\u001b[1;32m    527\u001b[0m     \u001b[0mextobj\u001b[0m \u001b[0;34m=\u001b[0m \u001b[0mget_linalg_error_extobj\u001b[0m\u001b[0;34m(\u001b[0m\u001b[0m_raise_linalgerror_singular\u001b[0m\u001b[0;34m)\u001b[0m\u001b[0;34m\u001b[0m\u001b[0m\n\u001b[0;32m--> 528\u001b[0;31m     \u001b[0mainv\u001b[0m \u001b[0;34m=\u001b[0m \u001b[0m_umath_linalg\u001b[0m\u001b[0;34m.\u001b[0m\u001b[0minv\u001b[0m\u001b[0;34m(\u001b[0m\u001b[0ma\u001b[0m\u001b[0;34m,\u001b[0m \u001b[0msignature\u001b[0m\u001b[0;34m=\u001b[0m\u001b[0msignature\u001b[0m\u001b[0;34m,\u001b[0m \u001b[0mextobj\u001b[0m\u001b[0;34m=\u001b[0m\u001b[0mextobj\u001b[0m\u001b[0;34m)\u001b[0m\u001b[0;34m\u001b[0m\u001b[0m\n\u001b[0m\u001b[1;32m    529\u001b[0m     \u001b[0;32mreturn\u001b[0m \u001b[0mwrap\u001b[0m\u001b[0;34m(\u001b[0m\u001b[0mainv\u001b[0m\u001b[0;34m.\u001b[0m\u001b[0mastype\u001b[0m\u001b[0;34m(\u001b[0m\u001b[0mresult_t\u001b[0m\u001b[0;34m,\u001b[0m \u001b[0mcopy\u001b[0m\u001b[0;34m=\u001b[0m\u001b[0;32mFalse\u001b[0m\u001b[0;34m)\u001b[0m\u001b[0;34m)\u001b[0m\u001b[0;34m\u001b[0m\u001b[0m\n\u001b[1;32m    530\u001b[0m \u001b[0;34m\u001b[0m\u001b[0m\n",
      "\u001b[0;32m~/anaconda3/lib/python3.6/site-packages/numpy/linalg/linalg.py\u001b[0m in \u001b[0;36m_raise_linalgerror_singular\u001b[0;34m(err, flag)\u001b[0m\n\u001b[1;32m     87\u001b[0m \u001b[0;34m\u001b[0m\u001b[0m\n\u001b[1;32m     88\u001b[0m \u001b[0;32mdef\u001b[0m \u001b[0m_raise_linalgerror_singular\u001b[0m\u001b[0;34m(\u001b[0m\u001b[0merr\u001b[0m\u001b[0;34m,\u001b[0m \u001b[0mflag\u001b[0m\u001b[0;34m)\u001b[0m\u001b[0;34m:\u001b[0m\u001b[0;34m\u001b[0m\u001b[0m\n\u001b[0;32m---> 89\u001b[0;31m     \u001b[0;32mraise\u001b[0m \u001b[0mLinAlgError\u001b[0m\u001b[0;34m(\u001b[0m\u001b[0;34m\"Singular matrix\"\u001b[0m\u001b[0;34m)\u001b[0m\u001b[0;34m\u001b[0m\u001b[0m\n\u001b[0m\u001b[1;32m     90\u001b[0m \u001b[0;34m\u001b[0m\u001b[0m\n\u001b[1;32m     91\u001b[0m \u001b[0;32mdef\u001b[0m \u001b[0m_raise_linalgerror_nonposdef\u001b[0m\u001b[0;34m(\u001b[0m\u001b[0merr\u001b[0m\u001b[0;34m,\u001b[0m \u001b[0mflag\u001b[0m\u001b[0;34m)\u001b[0m\u001b[0;34m:\u001b[0m\u001b[0;34m\u001b[0m\u001b[0m\n",
      "\u001b[0;31mLinAlgError\u001b[0m: Singular matrix"
     ]
    }
   ],
   "source": [
    "np.linalg.inv(Sigma)"
   ]
  },
  {
   "cell_type": "code",
   "execution_count": null,
   "metadata": {
    "collapsed": true
   },
   "outputs": [],
   "source": [
    "np.linalg.pinv?"
   ]
  },
  {
   "cell_type": "code",
   "execution_count": 36,
   "metadata": {
    "collapsed": false
   },
   "outputs": [
    {
     "data": {
      "text/plain": [
       "array([[0.5, 0.5],\n",
       "       [0.5, 0.5]])"
      ]
     },
     "execution_count": 36,
     "metadata": {},
     "output_type": "execute_result"
    }
   ],
   "source": [
    "Sigma @ np.linalg.pinv(Sigma)"
   ]
  },
  {
   "cell_type": "code",
   "execution_count": 37,
   "metadata": {
    "collapsed": true
   },
   "outputs": [],
   "source": [
    "def discQDA(X, means, stds, mu, Sigma, prior):\n",
    "    Xc = (X - means) / stds - mu\n",
    "    if Sigma.size == 1:\n",
    "        Sigma = np.asarray(Sigma).reshape((1,1))\n",
    "    det = np.linalg.det(Sigma)        \n",
    "    # if det == 0:\n",
    "    #   raise np.linalg.LinAlgError('discQDA(): Singular covariance matrix')\n",
    "    SigmaInv = np.linalg.pinv(Sigma)     # pinv in case Sigma is singular\n",
    "    return -0.5 * np.log(det) \\\n",
    "           - 0.5 * np.sum(np.dot(Xc, SigmaInv) * Xc, axis=1).reshape((-1,1)) \\\n",
    "           + np.log(prior)"
   ]
  },
  {
   "cell_type": "markdown",
   "metadata": {},
   "source": [
    "To use this, we must calculate the mean, covariance, and prior\n",
    "probabililty for each class.\n",
    "What about $p(C=k)$, which is the a prior probability\n",
    "distribution of Class $k$?  If we have no prior belief that one\n",
    "class is more likely than any other,\n",
    "\n",
    "$$\n",
    "\\begin{align*}\n",
    "p(C=k) &= \\frac{N_k}{N}\n",
    "\\end{align*}\n",
    "$$\n",
    "\n",
    "where $N$ is the total number of samples from all classes.\n",
    "\n",
    "We are still pretending we do not know how the data was generated."
   ]
  },
  {
   "cell_type": "code",
   "execution_count": 38,
   "metadata": {
    "collapsed": false
   },
   "outputs": [
    {
     "data": {
      "text/plain": [
       "array([ True,  True,  True,  True,  True,  True,  True,  True,  True,\n",
       "        True, False, False, False, False, False, False, False, False,\n",
       "       False, False])"
      ]
     },
     "execution_count": 38,
     "metadata": {},
     "output_type": "execute_result"
    }
   ],
   "source": [
    "(T==1).reshape((-1))"
   ]
  },
  {
   "cell_type": "code",
   "execution_count": 39,
   "metadata": {
    "collapsed": true
   },
   "outputs": [],
   "source": [
    "class1rows = (T==1).reshape((-1))\n",
    "class2rows = (T==2).reshape((-1))\n",
    "\n",
    "mu1 = np.mean(Xs[class1rows, :], axis=0)\n",
    "mu2 = np.mean(Xs[class2rows, :], axis=0)\n",
    "\n",
    "Sigma1 = np.cov(Xs[class1rows, :].T)\n",
    "Sigma2 = np.cov(Xs[class2rows, :].T)\n",
    "\n",
    "N1 = np.sum(class1rows)\n",
    "N2 = np.sum(class2rows)\n",
    "N = len(T)\n",
    "prior1 = N1 / float(N)\n",
    "prior2 = N2 / float(N)"
   ]
  },
  {
   "cell_type": "code",
   "execution_count": 40,
   "metadata": {
    "collapsed": false
   },
   "outputs": [
    {
     "data": {
      "text/plain": [
       "array(0.12823771)"
      ]
     },
     "execution_count": 40,
     "metadata": {},
     "output_type": "execute_result"
    }
   ],
   "source": [
    "Sigma1"
   ]
  },
  {
   "cell_type": "markdown",
   "metadata": {},
   "source": [
    "Now let's apply our discriminant function to some new data."
   ]
  },
  {
   "cell_type": "code",
   "execution_count": 41,
   "metadata": {
    "collapsed": true
   },
   "outputs": [],
   "source": [
    "nNew = 100\n",
    "newData = np.linspace(-5.0, 10.0, nNew).repeat(D).reshape((nNew, D))\n",
    "\n",
    "d1 = discQDA(newData, means, stds, mu1, Sigma1, prior1)\n",
    "d2 = discQDA(newData, means, stds, mu2, Sigma2, prior2)"
   ]
  },
  {
   "cell_type": "code",
   "execution_count": 42,
   "metadata": {
    "collapsed": false
   },
   "outputs": [
    {
     "data": {
      "text/plain": [
       "((100, 1), (100, 1))"
      ]
     },
     "execution_count": 42,
     "metadata": {},
     "output_type": "execute_result"
    }
   ],
   "source": [
    "d1.shape, d2.shape"
   ]
  },
  {
   "cell_type": "markdown",
   "metadata": {},
   "source": [
    "and look at it.  If data is more than one dimensional, let's just plot\n",
    "with respect to the first component.\n",
    "\n",
    "To obtain the value of the Normal distribution value for a given data sample, we have two choices:\n",
    "\n",
    "   1. Start with the discriminant function value and transform it to the full Normal distribution value,\n",
    "   2. Use our implementation of the Normal distibution directly."
   ]
  },
  {
   "cell_type": "code",
   "execution_count": 43,
   "metadata": {
    "collapsed": false
   },
   "outputs": [
    {
     "data": {
      "text/plain": [
       "(array([-0.81846539]),\n",
       " array([0.81846539]),\n",
       " array(0.12823771),\n",
       " array(0.60534986))"
      ]
     },
     "execution_count": 43,
     "metadata": {},
     "output_type": "execute_result"
    }
   ],
   "source": [
    "mu1, mu2, Sigma1, Sigma2"
   ]
  },
  {
   "cell_type": "code",
   "execution_count": 44,
   "metadata": {
    "collapsed": true
   },
   "outputs": [],
   "source": [
    "def normald(X, mu, sigma):\n",
    "    \"\"\" normald:\n",
    "       X contains samples, one per row, N x D. \n",
    "       mu is mean vector, D x 1.\n",
    "       sigma is covariance matrix, D x D.  \"\"\"\n",
    "    D = X.shape[1]\n",
    "    detSigma = sigma if D == 1 else np.linalg.det(sigma)\n",
    "    if detSigma == 0:\n",
    "        raise np.linalg.LinAlgError('normald(): Singular covariance matrix')\n",
    "    sigmaI = 1.0/sigma if D == 1 else np.linalg.inv(sigma)\n",
    "    normConstant = 1.0 / np.sqrt((2*np.pi)**D * detSigma)\n",
    "    diffv = X - mu.T # change column vector mu to be row vector\n",
    "    return normConstant * np.exp(-0.5 * np.sum(np.dot(diffv, sigmaI) * diffv, axis=1))[:,np.newaxis]"
   ]
  },
  {
   "cell_type": "code",
   "execution_count": 45,
   "metadata": {
    "collapsed": false
   },
   "outputs": [
    {
     "data": {
      "text/plain": [
       "(array([-0.81846539]), array([0.81846539]))"
      ]
     },
     "execution_count": 45,
     "metadata": {},
     "output_type": "execute_result"
    }
   ],
   "source": [
    "mu1, mu2"
   ]
  },
  {
   "cell_type": "code",
   "execution_count": 46,
   "metadata": {
    "collapsed": false
   },
   "outputs": [
    {
     "data": {
      "image/png": "[encoded data removed]",
      "text/plain": [
       "<matplotlib.figure.Figure at 0x7fb96060ddd8>"
      ]
     },
     "metadata": {},
     "output_type": "display_data"
    }
   ],
   "source": [
    "plt.figure(figsize=(10, 10))\n",
    "plt.subplot(3, 1, 1)\n",
    "plt.plot(newData[:, 0],np.hstack((d1, d2)))\n",
    "plt.ylabel(\"QDA Discriminant Functions\")\n",
    "\n",
    "# Plot generative distributions  p(x | Class=k)  starting with discriminant functions\n",
    "plt.subplot(3, 1, 2)\n",
    "\n",
    "probs = np.exp( np.hstack((d1, d2)) - 0.5  *D * np.log(2 * np.pi)  - np.log(np.array([[prior1, prior2]])))\n",
    "\n",
    "plt.plot(newData[:,0], probs)\n",
    "plt.ylabel(\"QDA P(x|Class=k)\\n from disc funcs\", multialignment=\"center\")\n",
    "\n",
    "# Plot generative distributions  p(x | Class=k)  using normald    ERROR HERE\n",
    "plt.subplot(3, 1 ,3)\n",
    "newDataS = (newData - means) / stds\n",
    "\n",
    "probs = np.hstack((normald(newDataS, mu1, Sigma1),\n",
    "                   normald(newDataS, mu2, Sigma2)))\n",
    "plt.plot(newData, probs)\n",
    "plt.ylabel(\"QDA P(x|Class=k)\\n using normald\", multialignment=\"center\");\n"
   ]
  },
  {
   "cell_type": "markdown",
   "metadata": {},
   "source": [
    "Since there are only 10 training samples per class, results will\n",
    "change a bit from run to run."
   ]
  },
  {
   "cell_type": "markdown",
   "metadata": {},
   "source": [
    "But, what if we have more dimensions than samples?  Setting $D=20$,\n",
    "with $N=10$, results in"
   ]
  },
  {
   "cell_type": "code",
   "execution_count": 49,
   "metadata": {
    "collapsed": false
   },
   "outputs": [
    {
     "name": "stderr",
     "output_type": "stream",
     "text": [
      "/s/parsons/e/fac/anderson/anaconda3/lib/python3.6/site-packages/ipykernel_launcher.py:9: RuntimeWarning: invalid value encountered in log\n",
      "  if __name__ == '__main__':\n",
      "/s/parsons/e/fac/anderson/anaconda3/lib/python3.6/site-packages/ipykernel_launcher.py:11: RuntimeWarning: invalid value encountered in sqrt\n",
      "  # This is added back by InteractiveShellApp.init_path()\n",
      "/s/parsons/e/fac/anderson/anaconda3/lib/python3.6/site-packages/ipykernel_launcher.py:13: RuntimeWarning: overflow encountered in exp\n",
      "  del sys.path[0]\n"
     ]
    },
    {
     "data": {
      "image/png": "[encoded data removed]",
      "text/plain": [
       "<matplotlib.figure.Figure at 0x7fb9681017b8>"
      ]
     },
     "metadata": {},
     "output_type": "display_data"
    }
   ],
   "source": [
    "D = 20  # number of components in each sample\n",
    "N = 10  # number of samples in each class\n",
    "X1 = np.random.normal(0.0, 1.2, (N, D))\n",
    "T1 = np.array([1]*N).reshape((N, 1))\n",
    "X2 = np.random.normal(4.0, 1.8, (N, D))  # wider variance\n",
    "T2 = np.array([2]*N).reshape((N, 1))\n",
    "\n",
    "data = np.hstack(( np.vstack((X1, X2)), np.vstack((T1, T2))))\n",
    "X = data[:, 0:D]\n",
    "T = data[:, -1]\n",
    "means, stds = np.mean(X,0), np.std(X,0)\n",
    "Xs = (X-means)/stds\n",
    "\n",
    "class1rows = T==1\n",
    "class2rows = T==2\n",
    "\n",
    "mu1 = np.mean(Xs[class1rows,:],axis=0)\n",
    "mu2 = np.mean(Xs[class2rows,:],axis=0)\n",
    "\n",
    "Sigma1 = np.cov(Xs[class1rows,:].T)\n",
    "Sigma2 = np.cov(Xs[class2rows,:].T)\n",
    "\n",
    "N1 = np.sum(class1rows)\n",
    "N2 = np.sum(class2rows)\n",
    "N = len(T)\n",
    "prior1 = N1 / float(N)\n",
    "prior2 = N2 / float(N)\n",
    "\n",
    "nNew = 100\n",
    "newData = np.linspace(-5.0,10.0,nNew).repeat(D).reshape((nNew,D))\n",
    "\n",
    "d1 = discQDA(newData,means,stds,mu1,Sigma1,prior1)\n",
    "d2 = discQDA(newData,means,stds,mu2,Sigma2,prior2)\n",
    "\n",
    "plt.figure(figsize=(10,10))\n",
    "plt.subplot(3,1,1)\n",
    "plt.plot(newData[:,0],np.hstack((d1,d2)))\n",
    "plt.ylabel(\"QDA Discriminant Functions\")\n",
    "# Plot generative distributions  p(x | Class=k)  starting with discriminant functions\n",
    "plt.subplot(3,1,2)\n",
    "probs = np.exp( np.hstack((d1,d2)) - 0.5*D*np.log(2*np.pi) - np.log(np.array([[prior1,prior2]])))\n",
    "plt.plot(newData[:,0],probs)\n",
    "plt.ylabel(\"QDA P(x|Class=k)\\n from disc funcs\", multialignment=\"center\")\n",
    "\n",
    "# Plot generative distributions  p(x | Class=k)  using normald\n",
    "plt.subplot(3,1,3)\n",
    "newDataS = (newData-means)/stds\n",
    "probs = np.hstack((normald(newDataS,mu1,Sigma1),\n",
    "                   normald(newDataS,mu2,Sigma2)))\n",
    "plt.plot(newData[:,0],probs)\n",
    "plt.ylabel(\"QDA P(x|Class=k)\\n using normald\", multialignment=\"center\");"
   ]
  },
  {
   "cell_type": "markdown",
   "metadata": {},
   "source": [
    "What happened?  $\\Sigma$ is very close to singular, meaning columns of $\\Xv$ are\n",
    "close to collinear.  The determinant of a singular matrix is zero and its\n",
    "inverse doesn't exist.  We will discuss ways of handling this in the\n",
    "future."
   ]
  },
  {
   "cell_type": "markdown",
   "metadata": {},
   "source": [
    "For two dimensional data from two classes, our data and decision\n",
    "boundary, where $\\delta_1(\\xv) = \\delta_2(\\xv)$, might look like\n",
    "\n",
    "<img src=\"http://www.cs.colostate.edu/~anderson/cs445/notebooks/twonormalsboundary.png\">\n",
    "\n",
    "Assuming a single Normal distribution as the model of data from each class does\n",
    "not seem to lead to an exceedingly complex model.  But, how many\n",
    "parameters are there in the mean and covariance matrix, if data is $d$-dimensional?\n",
    "\n",
    "   - Mean has $d$ components.\n",
    "   - Covariance matrix has $d^2$ components.  If $d = 100$, the covariance matrix has 100,000 parameters.  Whoa!\n",
    "\n",
    "Actually the covariance matrix is symmetric, so it only has $\\frac{d^2}{2} + \\frac{d}{2} =  \\frac{d(d+1)}{2}$ unique values.  Still a lot.  And we have one for each class, so total number of parameters, including mean, is $K(d + \\frac{d(d+1)}{2})$. \n",
    "\n",
    "What if the data distribution is under-sampled?\n",
    "\n",
    "<img src=\"http://www.cs.colostate.edu/~anderson/cs445/notebooks/twonormalsboundary2.png\">\n",
    "\n",
    "Normal distribution Gaussian for Class 1 is far from correct.  Class boundary will\n",
    "now lead to many errors.\n",
    "\n",
    "How can we reduce the chance of overfitting?\n",
    "Need to remove flexibility from the Normal distribution model.  How?\n",
    "\n",
    "Could restrict all covariance matrices to be diagonal.  The\n",
    "ellipses would be parallel to the axes.  Wouldn't work well if\n",
    "features are correlated.\n",
    "\n",
    "Could force all classes to have the same covariance matrix by\n",
    "averaging the covariance matrices from every class.\n",
    "\n",
    "Seems like a  bad idea, but at least we are using all of the\n",
    "data samples to come up with a covariance matrix.\n",
    "\n",
    "If we use the average of the\n",
    "covariance matrix for each class, weighted by the fraction of\n",
    "samples from that class, we would see\n",
    "\n",
    "<img src=\"http://www.cs.colostate.edu/~anderson/cs445/notebooks/twonormalsboundary2lda.png\">\n",
    "\n",
    "Better result than using unique covariance matrices.\n",
    "\n",
    "Notice the boundary.  It is now linear, not the quadratic curve\n",
    "we had before.  Why?"
   ]
  },
  {
   "cell_type": "markdown",
   "metadata": {},
   "source": [
    "Remember our discriminant function. \n",
    "\n",
    "$$\n",
    "      \\begin{align*}\n",
    "        \\delta_k(\\xv) = -\\frac{1}{2} \\ln |\\Sigma_k| -\\frac{1}{2}(\\xv-\\muv_k)^T\n",
    "        \\Sigma_k^{-1} (\\xv-\\muv_k) + \\ln P(C=k)\n",
    "      \\end{align*}\n",
    "$$\n",
    "\n",
    "When we compare discriminant functions, $\\delta_2(\\xv) > \\delta_1(\\xv)$, and use the same\n",
    "covariance matrix $\\Sigmav$ for every class, we get\n",
    "\n",
    "$$\n",
    "      \\begin{align*}\n",
    "        -\\frac{1}{2} & \\ln |\\Sigma| +\n",
    "        -\\frac{1}{2}(\\xv-\\muv_2)^T \\Sigma^{-1} (\\xv-\\muv_2) + \\ln p(C=2) \n",
    "        \\\\ & > -\\frac{1}{2} \\ln |\\Sigma| +\n",
    "        -\\frac{1}{2}(\\xv-\\muv_1)^T \\Sigma^{-1} (\\xv-\\muv_1) + \\ln p(C=1) \n",
    "      \\end{align*}\n",
    "$$\n",
    "\n",
    "which can be simplified to\n",
    "\n",
    "$$\n",
    "      \\begin{align*}\n",
    "        -\\frac{1}{2}(\\xv-\\muv_2)^T \\Sigma^{-1} (\\xv-\\muv_2) + \\ln p(C=2) \n",
    "        & > -\\frac{1}{2}(\\xv-\\muv_1)^T \\Sigma^{-1} (\\xv-\\muv_1) + \\ln p(C=1) \\\\\n",
    "        \\xv^T \\Sigmav^{-1} \\muv_1 - \\frac{1}{2}\\muv_1^T \\Sigmav^{-1} \\muv_1 + \\log\n",
    "        P(C=1) \n",
    "        &> \\xv^T \\Sigmav^{-1} \\muv_2 - \\frac{1}{2}\\muv_2^T \\Sigmav^{-1} \\muv_2\n",
    "        + \\log P(C=2)\n",
    "      \\end{align*}\n",
    "$$\n",
    "\n",
    "\n",
    "So, our discriminant function has become\n",
    "\n",
    "$$\n",
    "      \\begin{align*}\n",
    "        \\delta_k(\\xv) = \\xv^T \\Sigmav^{-1} \\muv_k - \\frac{1}{2}\\muv_k^T \\Sigmav^{-1} \\muv_k + \\log\n",
    "        P(C=k)\n",
    "      \\end{align*}\n",
    "$$\n",
    "\n",
    "This is linear in $\\xv$, hence and can be written as\n",
    "\n",
    "$$\n",
    "      \\begin{align*}\n",
    "        \\delta_k(\\xv) = \\xv^T \\wv_k + \\text{constant}_k\n",
    "      \\end{align*}\n",
    "$$\n",
    "\n",
    "\n",
    "So, using Normal distributions as generative models and\n",
    "restricting the covariance matrices to all be the weighted average\n",
    "of class covariance matrices\n",
    "\n",
    "$$\n",
    "\\begin{align*}\n",
    "\\Sigmav = \\sum_{k=1}^K \\frac{N_k}{N} \\Sigmav_k\n",
    "\\end{align*}\n",
    "$$\n",
    "\n",
    "results in a linear boundary.  This\n",
    "approach is called Linear Discriminant Analysis (LDA).\n",
    "\n",
    "Both QDA and LDA are based on Normal distributions for\n",
    "modeling the data samples in each class.\n",
    "\n",
    "QDA is more flexible, but LDA often works better in\n",
    "practice.  When?\n",
    "\n",
    "   - Undersampled data\n",
    "     - Small number of samples\n",
    "     - High dimensional data\n"
   ]
  },
  {
   "cell_type": "markdown",
   "metadata": {},
   "source": [
    "## Example"
   ]
  },
  {
   "cell_type": "markdown",
   "metadata": {},
   "source": [
    "Let's play with the parkinsons data and classify it using QDA.\n",
    "\n",
    "Calculate means and covariance matrices"
   ]
  },
  {
   "cell_type": "code",
   "execution_count": 50,
   "metadata": {
    "collapsed": false
   },
   "outputs": [
    {
     "data": {
      "text/plain": [
       "((156, 22), (156, 1), (39, 22), (39, 1))"
      ]
     },
     "execution_count": 50,
     "metadata": {},
     "output_type": "execute_result"
    }
   ],
   "source": [
    "Xtrain.shape, Ttrain.shape, Xtest.shape, Ttest.shape"
   ]
  },
  {
   "cell_type": "code",
   "execution_count": 51,
   "metadata": {
    "collapsed": true
   },
   "outputs": [],
   "source": [
    "# Fit generative models (Normal distributions) to each class\n",
    "means,stds = np.mean(Xtrain, 0), np.std(Xtrain, 0)\n",
    "Xtrains = (Xtrain - means) / stds\n",
    "\n",
    "Ttr = (Ttrain==0).reshape((-1))\n",
    "mu1 = np.mean(Xtrains[Ttr, :], axis=0)\n",
    "cov1 = np.cov(Xtrains[Ttr, :].T)\n",
    "Ttr = (Ttrain.ravel()==1).reshape((-1))\n",
    "mu2 = np.mean(Xtrains[Ttr, :],axis=0)\n",
    "cov2 = np.cov(Xtrains[Ttr, :].T)"
   ]
  },
  {
   "cell_type": "code",
   "execution_count": 52,
   "metadata": {
    "collapsed": false
   },
   "outputs": [
    {
     "name": "stdout",
     "output_type": "stream",
     "text": [
      "Percent correct: Train 98.07692307692307 Test 89.74358974358975\n"
     ]
    }
   ],
   "source": [
    "d1 = discQDA(Xtrain, means, stds, mu1, cov1, float(nHealthy)/(nHealthy+nPark))\n",
    "d2 = discQDA(Xtrain, means, stds, mu2, cov2, float(nPark)/(nHealthy+nPark))\n",
    "predictedTrain = np.argmax(np.hstack((d1, d2)), axis=1)\n",
    "\n",
    "d1t = discQDA(Xtest, means, stds, mu1, cov1, float(nHealthy)/(nHealthy+nPark))\n",
    "d2t = discQDA(Xtest, means, stds, mu2, cov2, float(nPark)/(nHealthy+nPark))\n",
    "predictedTest = np.argmax(np.hstack((d1t, d2t)), axis=1)\n",
    "\n",
    "def percentCorrect(p, t):\n",
    "    return np.sum(p.ravel()==t.ravel()) / float(len(t)) * 100\n",
    "\n",
    "print('Percent correct: Train', percentCorrect(predictedTrain,Ttrain), 'Test', percentCorrect(predictedTest,Ttest))"
   ]
  },
  {
   "cell_type": "markdown",
   "metadata": {},
   "source": [
    "Let's write a function to do this and run it multiple times (for different divisions into training and testing sets)."
   ]
  },
  {
   "cell_type": "code",
   "execution_count": 53,
   "metadata": {
    "collapsed": true
   },
   "outputs": [],
   "source": [
    "def runPark(filename, trainFraction):\n",
    "    f = open(filename,\"r\")\n",
    "    header = f.readline()\n",
    "    names = header.strip().split(',')[1:]\n",
    "\n",
    "    data = np.loadtxt(f ,delimiter=',', usecols=1+np.arange(23))\n",
    "\n",
    "    targetColumn = names.index(\"status\")\n",
    "    XColumns = np.arange(23)\n",
    "    XColumns = np.delete(XColumns, targetColumn)\n",
    "    X = data[:, XColumns]\n",
    "    T = data[:, targetColumn].reshape((-1,1)) # to keep 2-d matrix form\n",
    "    names.remove(\"status\")\n",
    "\n",
    "    healthyI,_ = np.where(T == 0)\n",
    "    parkI,_ = np.where(T == 1)\n",
    "    healthyI = np.random.permutation(healthyI)\n",
    "    parkI = np.random.permutation(parkI)\n",
    "\n",
    "    nHealthy = round(trainFraction*len(healthyI))\n",
    "    nPark = round(trainf*len(parkI))\n",
    "    rowsTrain = np.hstack((healthyI[:nHealthy], parkI[:nPark]))\n",
    "    Xtrain = X[rowsTrain, :]\n",
    "    Ttrain = T[rowsTrain, :]\n",
    "    rowsTest = np.hstack((healthyI[nHealthy:], parkI[nPark:]))\n",
    "    Xtest =  X[rowsTest, :]\n",
    "    Ttest =  T[rowsTest, :]\n",
    "\n",
    "    means, stds = np.mean(Xtrain, 0), np.std(Xtrain, 0)\n",
    "    Xtrains = (Xtrain-means)/stds\n",
    "\n",
    "    Ttr = (Ttrain==0).reshape((-1))\n",
    "    mu1 = np.mean(Xtrains[Ttr, :], axis=0)\n",
    "    cov1 = np.cov(Xtrains[Ttr, :].T)\n",
    "    Ttr = (Ttrain.ravel()==1).reshape((-1))\n",
    "    mu2 = np.mean(Xtrains[Ttr, :],axis=0)\n",
    "    cov2 = np.cov(Xtrains[Ttr, :].T)\n",
    "\n",
    "    d1 = discQDA(Xtrain, means, stds, mu1, cov1, float(nHealthy)/(nHealthy+nPark))\n",
    "    d2 = discQDA(Xtrain, means, stds, mu2, cov2, float(nPark)/(nHealthy+nPark))\n",
    "    predictedTrain = np.argmax(np.hstack((d1, d2)), axis=1)\n",
    "\n",
    "    d1t = discQDA(Xtest, means, stds, mu1, cov1, float(nHealthy)/(nHealthy+nPark))\n",
    "    d2t = discQDA(Xtest, means, stds, mu2, cov2, float(nPark)/(nHealthy+nPark))\n",
    "    predictedTest = np.argmax(np.hstack((d1t, d2t)), axis=1)\n",
    "\n",
    "    print('Percent correct: Train', percentCorrect(predictedTrain, Ttrain), 'Test', percentCorrect(predictedTest,Ttest))\n",
    "\n",
    "def percentCorrect(p, t):\n",
    "    return np.sum(p.ravel()==t.ravel()) / float(len(t)) * 100"
   ]
  },
  {
   "cell_type": "code",
   "execution_count": 54,
   "metadata": {
    "collapsed": false
   },
   "outputs": [
    {
     "name": "stdout",
     "output_type": "stream",
     "text": [
      "Percent correct: Train 98.71794871794873 Test 84.61538461538461\n"
     ]
    }
   ],
   "source": [
    "runPark('parkinsons.data', 0.8)"
   ]
  },
  {
   "cell_type": "code",
   "execution_count": 55,
   "metadata": {
    "collapsed": false
   },
   "outputs": [
    {
     "name": "stdout",
     "output_type": "stream",
     "text": [
      "Percent correct: Train 98.07692307692307 Test 82.05128205128204\n"
     ]
    }
   ],
   "source": [
    "runPark('parkinsons.data',0.8)"
   ]
  },
  {
   "cell_type": "code",
   "execution_count": 56,
   "metadata": {
    "collapsed": false
   },
   "outputs": [
    {
     "name": "stdout",
     "output_type": "stream",
     "text": [
      "Percent correct: Train 100.0 Test 79.48717948717949\n"
     ]
    }
   ],
   "source": [
    "runPark('parkinsons.data',0.8)"
   ]
  },
  {
   "cell_type": "code",
   "execution_count": 57,
   "metadata": {
    "collapsed": false
   },
   "outputs": [
    {
     "name": "stdout",
     "output_type": "stream",
     "text": [
      "Percent correct: Train 98.07692307692307 Test 92.3076923076923\n"
     ]
    }
   ],
   "source": [
    "runPark('parkinsons.data',0.8)"
   ]
  },
  {
   "cell_type": "markdown",
   "metadata": {},
   "source": [
    "Review.  How would you get the values of\n",
    "\n",
    "  * $p(\\xv|C=k)$\n",
    "  * $p(\\xv)$\n",
    "  * $p(C=k|\\xv)$\n",
    "  * predicted $C$ for a given $\\xv$\n",
    "\n",
    "Now, what would you change to do all of this for LDA?\n"
   ]
  },
  {
   "cell_type": "markdown",
   "metadata": {},
   "source": [
    "## LDA: Linear Discriminant Analysis"
   ]
  },
  {
   "cell_type": "markdown",
   "metadata": {
    "collapsed": true
   },
   "source": [
    "So far we have only been applying QDA.  Let's write a discLDA function and see if this classifier, which assumes all classes have the same covariance matrix, does better than QDA on our Parkinson's data."
   ]
  },
  {
   "cell_type": "markdown",
   "metadata": {},
   "source": [
    "Above we showed that if we assume the same covariance matrix, $\\Sigmav$, for each class, where \n",
    "$$\n",
    "\\begin{align*}\n",
    "\\Sigmav = \\sum_{k=1}^K \\frac{N_k}{N} \\Sigmav_k,\n",
    "\\end{align*}\n",
    "$$\n",
    "our discriminant function becomes\n",
    "$$\n",
    "      \\begin{align*}\n",
    "        \\delta_k(\\xv) = \\xv^T \\Sigmav^{-1} \\muv_k - \\frac{1}{2}\\muv_k^T \\Sigmav^{-1} \\muv_k + \\log\n",
    "        P(C=k)\n",
    "      \\end{align*}\n",
    "$$"
   ]
  },
  {
   "cell_type": "code",
   "execution_count": 58,
   "metadata": {
    "collapsed": true
   },
   "outputs": [],
   "source": [
    "import pdb"
   ]
  },
  {
   "cell_type": "code",
   "execution_count": 59,
   "metadata": {
    "collapsed": true
   },
   "outputs": [],
   "source": [
    "def discLDA(X, means,stds, mu, Sigma, prior):\n",
    "    X = (X-means)/stds\n",
    "    if Sigma.size == 1:\n",
    "        Sigma = np.asarray(Sigma).reshape((1,1))\n",
    "    det = np.linalg.det(Sigma)        \n",
    "    # if det == 0:\n",
    "    #    raise np.linalg.LinAlgError('discQDA(): Singular covariance matrix')\n",
    "    SigmaInv = np.linalg.pinv(Sigma)     # pinv in case Sigma is singular\n",
    "    mu = mu.reshape((-1,1)) # make mu a column vector\n",
    "    # pdb.set_trace()\n",
    "    return np.dot(np.dot(X,SigmaInv), mu) - 0.5 * np.dot(np.dot(mu.T,SigmaInv), mu) + np.log(prior)"
   ]
  },
  {
   "cell_type": "code",
   "execution_count": 60,
   "metadata": {
    "collapsed": true
   },
   "outputs": [],
   "source": [
    "def runPark(filename, trainFraction):\n",
    "    f = open(filename,\"r\")\n",
    "    header = f.readline()\n",
    "    names = header.strip().split(',')[1:]\n",
    "\n",
    "    data = np.loadtxt(f ,delimiter=',', usecols=1+np.arange(23))\n",
    "\n",
    "    targetColumn = names.index(\"status\")\n",
    "    XColumns = np.arange(23)\n",
    "    XColumns = np.delete(XColumns, targetColumn)\n",
    "    X = data[:, XColumns]\n",
    "    T = data[:, targetColumn].reshape((-1,1)) # to keep 2-d matrix form\n",
    "    names.remove(\"status\")\n",
    "\n",
    "    healthyI,_ = np.where(T == 0)\n",
    "    parkI,_ = np.where(T == 1)\n",
    "    healthyI = np.random.permutation(healthyI)\n",
    "    parkI = np.random.permutation(parkI)\n",
    "\n",
    "    nHealthy = round(trainFraction*len(healthyI))\n",
    "    nPark = round(trainf*len(parkI))\n",
    "    rowsTrain = np.hstack((healthyI[:nHealthy], parkI[:nPark]))\n",
    "    Xtrain = X[rowsTrain, :]\n",
    "    Ttrain = T[rowsTrain, :]\n",
    "    rowsTest = np.hstack((healthyI[nHealthy:], parkI[nPark:]))\n",
    "    Xtest =  X[rowsTest, :]\n",
    "    Ttest =  T[rowsTest, :]\n",
    "\n",
    "    means,stds = np.mean(Xtrain,0), np.std(Xtrain,0)\n",
    "    Xtrains = (Xtrain-means)/stds\n",
    "\n",
    "    Ttr = (Ttrain==0).reshape((-1))\n",
    "    mu1 = np.mean(Xtrains[Ttr, :],axis=0)\n",
    "    cov1 = np.cov(Xtrains[Ttr, :].T)\n",
    "    Ttr = (Ttrain.ravel()==1).reshape((-1))\n",
    "    mu2 = np.mean(Xtrains[Ttr, :],axis=0)\n",
    "    cov2 = np.cov(Xtrains[Ttr, :].T)\n",
    "\n",
    "    d1 = discQDA(Xtrain, means, stds, mu1, cov1, float(nHealthy)/(nHealthy+nPark))\n",
    "    d2 = discQDA(Xtrain, means, stds, mu2, cov2, float(nPark)/(nHealthy+nPark))\n",
    "    predictedTrain = np.argmax(np.hstack((d1, d2)),axis=1)\n",
    "\n",
    "    d1t = discQDA(Xtest, means, stds, mu1, cov1, float(nHealthy)/(nHealthy+nPark))\n",
    "    d2t = discQDA(Xtest, means, stds, mu2, cov2, float(nPark)/(nHealthy+nPark))\n",
    "    predictedTest = np.argmax(np.hstack((d1t, d2t)), axis=1)\n",
    "\n",
    "    print('QDA Percent correct: Train', percentCorrect(predictedTrain, Ttrain), 'Test', percentCorrect(predictedTest,Ttest))\n",
    "\n",
    "    covMean = (cov1 * nHealthy + cov2 * nPark) / (nHealthy+nPark)\n",
    "    d1 = discLDA(Xtrain, means, stds, mu1, covMean, float(nHealthy)/(nHealthy+nPark))\n",
    "    d2 = discLDA(Xtrain, means, stds, mu2, covMean, float(nPark)/(nHealthy+nPark))\n",
    "    predictedTrain = np.argmax(np.hstack((d1, d2)), axis=1)\n",
    "\n",
    "    d1t = discLDA(Xtest, means, stds, mu1, covMean, float(nHealthy)/(nHealthy+nPark))\n",
    "    d2t = discLDA(Xtest, means, stds, mu2, covMean, float(nPark)/(nHealthy+nPark))\n",
    "    predictedTest = np.argmax(np.hstack((d1t, d2t)), axis=1)\n",
    "    print('LDA Percent correct: Train', percentCorrect(predictedTrain, Ttrain), 'Test', percentCorrect(predictedTest,Ttest))\n",
    "\n",
    "def percentCorrect(p, t):\n",
    "    return np.sum(p.ravel()==t.ravel()) / float(len(t)) * 100"
   ]
  },
  {
   "cell_type": "code",
   "execution_count": 61,
   "metadata": {
    "collapsed": false
   },
   "outputs": [
    {
     "name": "stdout",
     "output_type": "stream",
     "text": [
      "QDA Percent correct: Train 98.71794871794873 Test 84.61538461538461\n",
      "LDA Percent correct: Train 92.3076923076923 Test 89.74358974358975\n"
     ]
    }
   ],
   "source": [
    "runPark('parkinsons.data', 0.8)"
   ]
  },
  {
   "cell_type": "code",
   "execution_count": 62,
   "metadata": {
    "collapsed": false
   },
   "outputs": [
    {
     "name": "stdout",
     "output_type": "stream",
     "text": [
      "QDA Percent correct: Train 98.07692307692307 Test 94.87179487179486\n",
      "LDA Percent correct: Train 91.02564102564102 Test 89.74358974358975\n",
      "\n",
      "QDA Percent correct: Train 99.35897435897436 Test 89.74358974358975\n",
      "LDA Percent correct: Train 91.66666666666666 Test 89.74358974358975\n",
      "\n",
      "QDA Percent correct: Train 98.07692307692307 Test 87.17948717948718\n",
      "LDA Percent correct: Train 90.38461538461539 Test 92.3076923076923\n",
      "\n",
      "QDA Percent correct: Train 100.0 Test 89.74358974358975\n",
      "LDA Percent correct: Train 92.3076923076923 Test 87.17948717948718\n",
      "\n",
      "QDA Percent correct: Train 100.0 Test 84.61538461538461\n",
      "LDA Percent correct: Train 90.38461538461539 Test 89.74358974358975\n",
      "\n"
     ]
    }
   ],
   "source": [
    "for i in range(5):\n",
    "    runPark('parkinsons.data', 0.8)\n",
    "    print()"
   ]
  },
  {
   "cell_type": "code",
   "execution_count": 63,
   "metadata": {
    "collapsed": false
   },
   "outputs": [
    {
     "data": {
      "text/plain": [
       "(2.220446049250313e-16, -36.04365338911715)"
      ]
     },
     "execution_count": 63,
     "metadata": {},
     "output_type": "execute_result"
    }
   ],
   "source": [
    "import sys\n",
    "sys.float_info.epsilon, np.log(sys.float_info.epsilon)"
   ]
  },
  {
   "cell_type": "code",
   "execution_count": 1,
   "metadata": {
    "collapsed": false
   },
   "outputs": [
    {
     "name": "stdout",
     "output_type": "stream",
     "text": [
      "Writing qdalda.py\n"
     ]
    }
   ],
   "source": [
    "%%writefile qdalda.py\n",
    "\n",
    "import numpy as np\n",
    "import sys # for sys.float_info.epsilon\n",
    "\n",
    "######################################################################\n",
    "### class QDA\n",
    "######################################################################\n",
    "\n",
    "class QDA(object):\n",
    "    \n",
    "    def __init__(self):\n",
    "        # Define all instance variables here. Not necessary\n",
    "        self.means = None\n",
    "        self.stds = None\n",
    "        self.mu = None\n",
    "        self.sigma = None\n",
    "        self.sigmaInv = None\n",
    "        self.prior = None\n",
    "        self.determinant = None\n",
    "        self.discriminantConstant = None\n",
    "\n",
    "    def train(self, X, T):\n",
    "        self.classes = np.unique(T)\n",
    "        self.means, self.stds = np.mean(X,0), np.std(X,0)\n",
    "        Xs = (X - self.means) / self.stds\n",
    "        self.mu = []\n",
    "        self.sigma = []\n",
    "        self.sigmaInv = []\n",
    "        self.determinant = []\n",
    "        self.prior = []\n",
    "        nSamples = X.shape[0]\n",
    "        for k in self.classes:\n",
    "            rowsThisClass = (T == k).reshape((-1))\n",
    "            self.mu.append( np.mean(Xs[rowsThisClass, :], 0).reshape((-1,1)) )\n",
    "            self.sigma.append( np.cov(Xs[rowsThisClass, :], rowvar=0) )\n",
    "            if self.sigma[-1].size == 1:\n",
    "                self.sigma[-1] = self.sigma[-1].reshape((1,1))\n",
    "            det = np.linalg.det(self.sigma[-1])\n",
    "            if det == 0:\n",
    "                det = sys.float_info.epsilon\n",
    "            self.determinant.append( det )\n",
    "            self.sigmaInv.append( np.linalg.pinv(self.sigma[-1]) )    # pinv in case Sigma is singular\n",
    "            self.prior.append( np.sum(rowsThisClass) / float(nSamples) )\n",
    "        self._finishTrain()\n",
    "\n",
    "    def _finishTrain(self):\n",
    "        self.discriminantConstant = []\n",
    "        for ki in range(len(self.classes)):\n",
    "            self.discriminantConstant.append( np.log(self.prior[ki]) - 0.5*np.log(self.determinant[ki]) )\n",
    "\n",
    "    def use(self, X, allOutputs=False):\n",
    "        nSamples = X.shape[0]\n",
    "        Xs = (X - self.means) / self.stds\n",
    "        discriminants,probabilities = self._discriminantFunction(Xs)\n",
    "        predictedClass = self.classes[np.argmax( discriminants, axis=1 )]\n",
    "        predictedClass = predictedClass.reshape((-1, 1))\n",
    "        return (predictedClass, probabilities, discriminants) if allOutputs else predictedClass\n",
    "\n",
    "    def _discriminantFunction(self, Xs):\n",
    "        nSamples = Xs.shape[0]\n",
    "        discriminants = np.zeros((nSamples, len(self.classes)))\n",
    "        for ki in range(len(self.classes)):\n",
    "            Xc = Xs - self.mu[ki].T\n",
    "            discriminants[:,ki:ki+1] = self.discriminantConstant[ki] - 0.5 * \\\n",
    "                                       np.sum(np.dot(Xc, self.sigmaInv[ki]) * Xc, axis=1).reshape((-1,1))\n",
    "        D = Xs.shape[1]\n",
    "        probabilities = np.exp( discriminants - 0.5*D*np.log(2*np.pi) )\n",
    "        return discriminants, probabilities\n",
    "        \n",
    "    def __repr__(self):\n",
    "        if self.mu is None:\n",
    "            return 'QDA not trained.'\n",
    "        else:\n",
    "            return 'QDA trained for classes {}'.format(self.classes)\n",
    "\n",
    "######################################################################\n",
    "### class LDA\n",
    "######################################################################\n",
    "\n",
    "class LDA(QDA):\n",
    "\n",
    "    def _finishTrain(self):\n",
    "        self.sigmaMean = np.sum(np.stack(self.sigma) * np.array(self.prior)[:,np.newaxis,np.newaxis], axis=0)\n",
    "        self.sigmaMeanInv = np.linalg.pinv(self.sigmaMean)\n",
    "        # print(self.sigma)\n",
    "        # print(self.sigmaMean)\n",
    "        self.discriminantConstant = []\n",
    "        self.discriminantCoefficient = []\n",
    "        for ki in range(len(self.classes)):\n",
    "            sigmaMu = np.dot(self.sigmaMeanInv, self.mu[ki])\n",
    "            self.discriminantConstant.append( -0.5 * np.dot(self.mu[ki].T, sigmaMu) )\n",
    "            self.discriminantCoefficient.append( sigmaMu )\n",
    "    \n",
    "    def _discriminantFunction(self,Xs):\n",
    "        nSamples = Xs.shape[0]\n",
    "        discriminants = np.zeros((nSamples, len(self.classes)))\n",
    "        for ki in range(len(self.classes)):\n",
    "            discriminants[:,ki:ki+1] = self.discriminantConstant[ki] + \\\n",
    "                                       np.dot(Xs, self.discriminantCoefficient[ki])\n",
    "        D = Xs.shape[1]\n",
    "        probabilities = np.exp( discriminants - 0.5*D*np.log(2*np.pi) - 0.5*np.log(self.determinant[ki]) \\\n",
    "                               - 0.5*np.sum(np.dot(Xs,self.sigmaMeanInv) * Xs, axis=1).reshape((-1,1)))\n",
    "        return discriminants, probabilities\n",
    "\n",
    "######################################################################\n",
    "### Example use\n",
    "######################################################################\n",
    "\n",
    "if __name__ == '__main__':\n",
    "\n",
    "    D = 1  # number of components in each sample\n",
    "    N = 10  # number of samples in each class\n",
    "    X = np.vstack((np.random.normal(0.0, 1.0, (N, D)),\n",
    "                   np.random.normal(4.0, 1.5, (N, D))))\n",
    "    T = np.vstack((np.array([1]*N).reshape((N, 1)),\n",
    "                   np.array([2]*N).reshape((N, 1))))\n",
    "\n",
    "    qda = QDA()\n",
    "    qda.train(X,T)\n",
    "    c,prob,_ = qda.use(X, allOutputs=True)\n",
    "    print('QDA', np.sum(c==T)/X.shape[0] * 100, '% correct')\n",
    "    print('{:>3s} {:>4s} {:>14s}'.format('T','Pred','prob(C=k|x)'))\n",
    "    for row in np.hstack((T,c,prob)):\n",
    "        print('{:3.0f} {:3.0f} {:8.4f} {:8.4f}'.format(*row))\n",
    "\n",
    "    lda = LDA()\n",
    "    lda.train(X,T)\n",
    "    c,prob,d = lda.use(X, allOutputs=True)\n",
    "    print('LDA', np.sum(c==T)/X.shape[0] * 100, '% correct')\n",
    "    print('{:>3s} {:>4s} {:>14s}'.format('T','Pred','prob(C=k|x)'))\n",
    "    for row in np.hstack((T,c,prob)):\n",
    "        print('{:3.0f} {:3.0f} {:8.4f} {:8.4f}'.format(*row))"
   ]
  },
  {
   "cell_type": "code",
   "execution_count": 65,
   "metadata": {
    "collapsed": false
   },
   "outputs": [
    {
     "name": "stdout",
     "output_type": "stream",
     "text": [
      "QDA 100.0 % correct\n",
      "  T Pred    prob(C=k|x)\n",
      "  1   1   0.3367   0.0133\n",
      "  1   1   0.1940   0.0372\n",
      "  1   1   0.4064   0.0067\n",
      "  1   1   0.1270   0.0000\n",
      "  1   1   0.4080   0.0007\n",
      "  1   1   0.2002   0.0001\n",
      "  1   1   0.3512   0.0003\n",
      "  1   1   0.4268   0.0011\n",
      "  1   1   0.3614   0.0108\n",
      "  1   1   0.2325   0.0286\n",
      "  2   2   0.0000   0.2697\n",
      "  2   2   0.0001   0.3543\n",
      "  2   2   0.0089   0.2371\n",
      "  2   2   0.0000   0.0901\n",
      "  2   2   0.0736   0.0938\n",
      "  2   2   0.0000   0.1938\n",
      "  2   2   0.0000   0.3438\n",
      "  2   2   0.0029   0.2995\n",
      "  2   2   0.0020   0.3152\n",
      "  2   2   0.0010   0.3392\n",
      "LDA 95.0 % correct\n",
      "  T Pred    prob(C=k|x)\n",
      "  1   1   0.5769   0.0133\n",
      "  1   1   0.3734   0.0461\n",
      "  1   1   0.6693   0.0058\n",
      "  1   1   0.2672   0.0000\n",
      "  1   1   0.6714   0.0004\n",
      "  1   1   0.3827   0.0000\n",
      "  1   1   0.5964   0.0002\n",
      "  1   1   0.6956   0.0006\n",
      "  1   1   0.6100   0.0103\n",
      "  1   1   0.4308   0.0335\n",
      "  2   2   0.0001   0.5076\n",
      "  2   2   0.0008   0.7062\n",
      "  2   2   0.0328   0.4342\n",
      "  2   2   0.0000   0.1345\n",
      "  2   1   0.1738   0.1412\n",
      "  2   2   0.0000   0.3400\n",
      "  2   2   0.0005   0.6809\n",
      "  2   2   0.0134   0.5762\n",
      "  2   2   0.0100   0.6130\n",
      "  2   2   0.0057   0.6698\n"
     ]
    },
    {
     "data": {
      "text/plain": [
       "<matplotlib.figure.Figure at 0x7fb960501c18>"
      ]
     },
     "metadata": {},
     "output_type": "display_data"
    }
   ],
   "source": [
    "%run qdalda.py"
   ]
  }
 ],
 "metadata": {
  "kernelspec": {
   "display_name": "Python 3",
   "language": "python",
   "name": "python3"
  },
  "language_info": {
   "codemirror_mode": {
    "name": "ipython",
    "version": 3
   },
   "file_extension": ".py",
   "mimetype": "text/x-python",
   "name": "python",
   "nbconvert_exporter": "python",
   "pygments_lexer": "ipython3",
   "version": "3.6.3"
  }
 },
 "nbformat": 4,
 "nbformat_minor": 1
}
